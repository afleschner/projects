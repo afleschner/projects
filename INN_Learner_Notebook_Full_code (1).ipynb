{
 "cells": [
  {
   "cell_type": "markdown",
   "metadata": {
    "id": "EoO7ROnuht51"
   },
   "source": [
    "<center><font size=6> Bank Churn Prediction </font></center>"
   ]
  },
  {
   "cell_type": "markdown",
   "metadata": {
    "id": "Q__obHNhdHtV"
   },
   "source": [
    "## Problem Statement"
   ]
  },
  {
   "cell_type": "markdown",
   "metadata": {
    "id": "WSyQJZSAaPA3"
   },
   "source": [
    "### Context"
   ]
  },
  {
   "cell_type": "markdown",
   "metadata": {
    "id": "vJQ5k8umdJdN"
   },
   "source": [
    "Businesses like banks which provide service have to worry about problem of 'Customer Churn' i.e. customers leaving and joining another service provider. It is important to understand which aspects of the service influence a customer's decision in this regard. Management can concentrate efforts on improvement of service, keeping in mind these priorities."
   ]
  },
  {
   "cell_type": "markdown",
   "metadata": {
    "id": "s749lpTNaRkN"
   },
   "source": [
    "### Objective"
   ]
  },
  {
   "cell_type": "markdown",
   "metadata": {
    "id": "XbrLMQQ6dKQU"
   },
   "source": [
    "You as a Data scientist with the  bank need to  build a neural network based classifier that can determine whether a customer will leave the bank  or not in the next 6 months."
   ]
  },
  {
   "cell_type": "markdown",
   "metadata": {
    "id": "Tsb28swdaVAs"
   },
   "source": [
    "### Data Dictionary"
   ]
  },
  {
   "cell_type": "markdown",
   "metadata": {
    "id": "-mquomUwdMol"
   },
   "source": [
    "* CustomerId: Unique ID which is assigned to each customer\n",
    "\n",
    "* Surname: Last name of the customer\n",
    "\n",
    "* CreditScore: It defines the credit history of the customer.\n",
    "  \n",
    "* Geography: A customer’s location\n",
    "   \n",
    "* Gender: It defines the Gender of the customer\n",
    "   \n",
    "* Age: Age of the customer\n",
    "    \n",
    "* Tenure: Number of years for which the customer has been with the bank\n",
    "\n",
    "* NumOfProducts: refers to the number of products that a customer has purchased through the bank.\n",
    "\n",
    "* Balance: Account balance\n",
    "\n",
    "* HasCrCard: It is a categorical variable which decides whether the customer has credit card or not.\n",
    "\n",
    "* EstimatedSalary: Estimated salary\n",
    "\n",
    "* isActiveMember: Is is a categorical variable which decides whether the customer is active member of the bank or not ( Active member in the sense, using bank products regularly, making transactions etc )\n",
    "\n",
    "* Exited : whether or not the customer left the bank within six month. It can take two values\n",
    "** 0=No ( Customer did not leave the bank )\n",
    "** 1=Yes ( Customer left the bank )"
   ]
  },
  {
   "cell_type": "markdown",
   "metadata": {
    "id": "FHHrSIl4c6Yn"
   },
   "source": [
    "## Importing necessary libraries"
   ]
  },
  {
   "cell_type": "code",
   "execution_count": 1,
   "metadata": {
    "id": "IfeZclzIHUNs"
   },
   "outputs": [],
   "source": [
    "import numpy as np\n",
    "import pandas as pd\n",
    "\n",
    "# Libraries to help with data visualization\n",
    "import matplotlib.pyplot as plt\n",
    "import seaborn as sns\n",
    "\n",
    "# to restrict the float value to 3 decimal places\n",
    "pd.set_option('display.float_format', lambda x: '%.3f' % x)\n",
    "## Importing necessary libraries\n",
    "from sklearn.model_selection import train_test_split\n",
    "from sklearn.preprocessing import StandardScaler, LabelEncoder\n",
    "from sklearn.metrics import f1_score, recall_score, roc_auc_score\n",
    "\n",
    "from imblearn.over_sampling import SMOTE\n",
    "from tensorflow import keras\n",
    "from tensorflow.keras.models import Sequential\n",
    "from tensorflow.keras.layers import Dense, Dropout, BatchNormalization\n",
    "from tensorflow.keras.optimizers import SGD, Adam\n",
    "from tensorflow.keras.regularizers import l2\n"
   ]
  },
  {
   "cell_type": "markdown",
   "metadata": {
    "id": "z7ubXtC8HUOA"
   },
   "source": [
    "## Loading the dataset"
   ]
  },
  {
   "cell_type": "code",
   "execution_count": 2,
   "metadata": {
    "id": "xGZLJmZUdkPq"
   },
   "outputs": [],
   "source": [
    "df = pd.read_csv('bank-1.csv')"
   ]
  },
  {
   "cell_type": "code",
   "execution_count": null,
   "metadata": {},
   "outputs": [],
   "source": []
  },
  {
   "cell_type": "markdown",
   "metadata": {
    "id": "eRxrJ2MHd_Sf"
   },
   "source": [
    "## Data Overview"
   ]
  },
  {
   "cell_type": "code",
   "execution_count": 3,
   "metadata": {
    "id": "4sPbCEoLuQBk"
   },
   "outputs": [
    {
     "name": "stdout",
     "output_type": "stream",
     "text": [
      "<class 'pandas.core.frame.DataFrame'>\n",
      "RangeIndex: 10000 entries, 0 to 9999\n",
      "Data columns (total 14 columns):\n",
      " #   Column           Non-Null Count  Dtype  \n",
      "---  ------           --------------  -----  \n",
      " 0   RowNumber        10000 non-null  int64  \n",
      " 1   CustomerId       10000 non-null  int64  \n",
      " 2   Surname          10000 non-null  object \n",
      " 3   CreditScore      10000 non-null  int64  \n",
      " 4   Geography        10000 non-null  object \n",
      " 5   Gender           10000 non-null  object \n",
      " 6   Age              10000 non-null  int64  \n",
      " 7   Tenure           10000 non-null  int64  \n",
      " 8   Balance          10000 non-null  float64\n",
      " 9   NumOfProducts    10000 non-null  int64  \n",
      " 10  HasCrCard        10000 non-null  int64  \n",
      " 11  IsActiveMember   10000 non-null  int64  \n",
      " 12  EstimatedSalary  10000 non-null  float64\n",
      " 13  Exited           10000 non-null  int64  \n",
      "dtypes: float64(2), int64(9), object(3)\n",
      "memory usage: 1.1+ MB\n"
     ]
    }
   ],
   "source": [
    "df.info()"
   ]
  },
  {
   "cell_type": "code",
   "execution_count": 4,
   "metadata": {},
   "outputs": [
    {
     "data": {
      "text/html": [
       "<div>\n",
       "<style scoped>\n",
       "    .dataframe tbody tr th:only-of-type {\n",
       "        vertical-align: middle;\n",
       "    }\n",
       "\n",
       "    .dataframe tbody tr th {\n",
       "        vertical-align: top;\n",
       "    }\n",
       "\n",
       "    .dataframe thead th {\n",
       "        text-align: right;\n",
       "    }\n",
       "</style>\n",
       "<table border=\"1\" class=\"dataframe\">\n",
       "  <thead>\n",
       "    <tr style=\"text-align: right;\">\n",
       "      <th></th>\n",
       "      <th>RowNumber</th>\n",
       "      <th>CustomerId</th>\n",
       "      <th>Surname</th>\n",
       "      <th>CreditScore</th>\n",
       "      <th>Geography</th>\n",
       "      <th>Gender</th>\n",
       "      <th>Age</th>\n",
       "      <th>Tenure</th>\n",
       "      <th>Balance</th>\n",
       "      <th>NumOfProducts</th>\n",
       "      <th>HasCrCard</th>\n",
       "      <th>IsActiveMember</th>\n",
       "      <th>EstimatedSalary</th>\n",
       "      <th>Exited</th>\n",
       "    </tr>\n",
       "  </thead>\n",
       "  <tbody>\n",
       "    <tr>\n",
       "      <th>0</th>\n",
       "      <td>1</td>\n",
       "      <td>15634602</td>\n",
       "      <td>Hargrave</td>\n",
       "      <td>619</td>\n",
       "      <td>France</td>\n",
       "      <td>Female</td>\n",
       "      <td>42</td>\n",
       "      <td>2</td>\n",
       "      <td>0.000</td>\n",
       "      <td>1</td>\n",
       "      <td>1</td>\n",
       "      <td>1</td>\n",
       "      <td>101348.880</td>\n",
       "      <td>1</td>\n",
       "    </tr>\n",
       "    <tr>\n",
       "      <th>1</th>\n",
       "      <td>2</td>\n",
       "      <td>15647311</td>\n",
       "      <td>Hill</td>\n",
       "      <td>608</td>\n",
       "      <td>Spain</td>\n",
       "      <td>Female</td>\n",
       "      <td>41</td>\n",
       "      <td>1</td>\n",
       "      <td>83807.860</td>\n",
       "      <td>1</td>\n",
       "      <td>0</td>\n",
       "      <td>1</td>\n",
       "      <td>112542.580</td>\n",
       "      <td>0</td>\n",
       "    </tr>\n",
       "    <tr>\n",
       "      <th>2</th>\n",
       "      <td>3</td>\n",
       "      <td>15619304</td>\n",
       "      <td>Onio</td>\n",
       "      <td>502</td>\n",
       "      <td>France</td>\n",
       "      <td>Female</td>\n",
       "      <td>42</td>\n",
       "      <td>8</td>\n",
       "      <td>159660.800</td>\n",
       "      <td>3</td>\n",
       "      <td>1</td>\n",
       "      <td>0</td>\n",
       "      <td>113931.570</td>\n",
       "      <td>1</td>\n",
       "    </tr>\n",
       "    <tr>\n",
       "      <th>3</th>\n",
       "      <td>4</td>\n",
       "      <td>15701354</td>\n",
       "      <td>Boni</td>\n",
       "      <td>699</td>\n",
       "      <td>France</td>\n",
       "      <td>Female</td>\n",
       "      <td>39</td>\n",
       "      <td>1</td>\n",
       "      <td>0.000</td>\n",
       "      <td>2</td>\n",
       "      <td>0</td>\n",
       "      <td>0</td>\n",
       "      <td>93826.630</td>\n",
       "      <td>0</td>\n",
       "    </tr>\n",
       "    <tr>\n",
       "      <th>4</th>\n",
       "      <td>5</td>\n",
       "      <td>15737888</td>\n",
       "      <td>Mitchell</td>\n",
       "      <td>850</td>\n",
       "      <td>Spain</td>\n",
       "      <td>Female</td>\n",
       "      <td>43</td>\n",
       "      <td>2</td>\n",
       "      <td>125510.820</td>\n",
       "      <td>1</td>\n",
       "      <td>1</td>\n",
       "      <td>1</td>\n",
       "      <td>79084.100</td>\n",
       "      <td>0</td>\n",
       "    </tr>\n",
       "  </tbody>\n",
       "</table>\n",
       "</div>"
      ],
      "text/plain": [
       "   RowNumber  CustomerId   Surname  CreditScore Geography  Gender  Age  \\\n",
       "0          1    15634602  Hargrave          619    France  Female   42   \n",
       "1          2    15647311      Hill          608     Spain  Female   41   \n",
       "2          3    15619304      Onio          502    France  Female   42   \n",
       "3          4    15701354      Boni          699    France  Female   39   \n",
       "4          5    15737888  Mitchell          850     Spain  Female   43   \n",
       "\n",
       "   Tenure    Balance  NumOfProducts  HasCrCard  IsActiveMember  \\\n",
       "0       2      0.000              1          1               1   \n",
       "1       1  83807.860              1          0               1   \n",
       "2       8 159660.800              3          1               0   \n",
       "3       1      0.000              2          0               0   \n",
       "4       2 125510.820              1          1               1   \n",
       "\n",
       "   EstimatedSalary  Exited  \n",
       "0       101348.880       1  \n",
       "1       112542.580       0  \n",
       "2       113931.570       1  \n",
       "3        93826.630       0  \n",
       "4        79084.100       0  "
      ]
     },
     "execution_count": 4,
     "metadata": {},
     "output_type": "execute_result"
    }
   ],
   "source": [
    "df.head()"
   ]
  },
  {
   "cell_type": "code",
   "execution_count": 5,
   "metadata": {},
   "outputs": [
    {
     "data": {
      "text/html": [
       "<div>\n",
       "<style scoped>\n",
       "    .dataframe tbody tr th:only-of-type {\n",
       "        vertical-align: middle;\n",
       "    }\n",
       "\n",
       "    .dataframe tbody tr th {\n",
       "        vertical-align: top;\n",
       "    }\n",
       "\n",
       "    .dataframe thead th {\n",
       "        text-align: right;\n",
       "    }\n",
       "</style>\n",
       "<table border=\"1\" class=\"dataframe\">\n",
       "  <thead>\n",
       "    <tr style=\"text-align: right;\">\n",
       "      <th></th>\n",
       "      <th>RowNumber</th>\n",
       "      <th>CustomerId</th>\n",
       "      <th>CreditScore</th>\n",
       "      <th>Age</th>\n",
       "      <th>Tenure</th>\n",
       "      <th>Balance</th>\n",
       "      <th>NumOfProducts</th>\n",
       "      <th>HasCrCard</th>\n",
       "      <th>IsActiveMember</th>\n",
       "      <th>EstimatedSalary</th>\n",
       "      <th>Exited</th>\n",
       "    </tr>\n",
       "  </thead>\n",
       "  <tbody>\n",
       "    <tr>\n",
       "      <th>count</th>\n",
       "      <td>10000.000</td>\n",
       "      <td>10000.000</td>\n",
       "      <td>10000.000</td>\n",
       "      <td>10000.000</td>\n",
       "      <td>10000.000</td>\n",
       "      <td>10000.000</td>\n",
       "      <td>10000.000</td>\n",
       "      <td>10000.000</td>\n",
       "      <td>10000.000</td>\n",
       "      <td>10000.000</td>\n",
       "      <td>10000.000</td>\n",
       "    </tr>\n",
       "    <tr>\n",
       "      <th>mean</th>\n",
       "      <td>5000.500</td>\n",
       "      <td>15690940.569</td>\n",
       "      <td>650.529</td>\n",
       "      <td>38.922</td>\n",
       "      <td>5.013</td>\n",
       "      <td>76485.889</td>\n",
       "      <td>1.530</td>\n",
       "      <td>0.706</td>\n",
       "      <td>0.515</td>\n",
       "      <td>100090.240</td>\n",
       "      <td>0.204</td>\n",
       "    </tr>\n",
       "    <tr>\n",
       "      <th>std</th>\n",
       "      <td>2886.896</td>\n",
       "      <td>71936.186</td>\n",
       "      <td>96.653</td>\n",
       "      <td>10.488</td>\n",
       "      <td>2.892</td>\n",
       "      <td>62397.405</td>\n",
       "      <td>0.582</td>\n",
       "      <td>0.456</td>\n",
       "      <td>0.500</td>\n",
       "      <td>57510.493</td>\n",
       "      <td>0.403</td>\n",
       "    </tr>\n",
       "    <tr>\n",
       "      <th>min</th>\n",
       "      <td>1.000</td>\n",
       "      <td>15565701.000</td>\n",
       "      <td>350.000</td>\n",
       "      <td>18.000</td>\n",
       "      <td>0.000</td>\n",
       "      <td>0.000</td>\n",
       "      <td>1.000</td>\n",
       "      <td>0.000</td>\n",
       "      <td>0.000</td>\n",
       "      <td>11.580</td>\n",
       "      <td>0.000</td>\n",
       "    </tr>\n",
       "    <tr>\n",
       "      <th>25%</th>\n",
       "      <td>2500.750</td>\n",
       "      <td>15628528.250</td>\n",
       "      <td>584.000</td>\n",
       "      <td>32.000</td>\n",
       "      <td>3.000</td>\n",
       "      <td>0.000</td>\n",
       "      <td>1.000</td>\n",
       "      <td>0.000</td>\n",
       "      <td>0.000</td>\n",
       "      <td>51002.110</td>\n",
       "      <td>0.000</td>\n",
       "    </tr>\n",
       "    <tr>\n",
       "      <th>50%</th>\n",
       "      <td>5000.500</td>\n",
       "      <td>15690738.000</td>\n",
       "      <td>652.000</td>\n",
       "      <td>37.000</td>\n",
       "      <td>5.000</td>\n",
       "      <td>97198.540</td>\n",
       "      <td>1.000</td>\n",
       "      <td>1.000</td>\n",
       "      <td>1.000</td>\n",
       "      <td>100193.915</td>\n",
       "      <td>0.000</td>\n",
       "    </tr>\n",
       "    <tr>\n",
       "      <th>75%</th>\n",
       "      <td>7500.250</td>\n",
       "      <td>15753233.750</td>\n",
       "      <td>718.000</td>\n",
       "      <td>44.000</td>\n",
       "      <td>7.000</td>\n",
       "      <td>127644.240</td>\n",
       "      <td>2.000</td>\n",
       "      <td>1.000</td>\n",
       "      <td>1.000</td>\n",
       "      <td>149388.247</td>\n",
       "      <td>0.000</td>\n",
       "    </tr>\n",
       "    <tr>\n",
       "      <th>max</th>\n",
       "      <td>10000.000</td>\n",
       "      <td>15815690.000</td>\n",
       "      <td>850.000</td>\n",
       "      <td>92.000</td>\n",
       "      <td>10.000</td>\n",
       "      <td>250898.090</td>\n",
       "      <td>4.000</td>\n",
       "      <td>1.000</td>\n",
       "      <td>1.000</td>\n",
       "      <td>199992.480</td>\n",
       "      <td>1.000</td>\n",
       "    </tr>\n",
       "  </tbody>\n",
       "</table>\n",
       "</div>"
      ],
      "text/plain": [
       "       RowNumber   CustomerId  CreditScore       Age    Tenure    Balance  \\\n",
       "count  10000.000    10000.000    10000.000 10000.000 10000.000  10000.000   \n",
       "mean    5000.500 15690940.569      650.529    38.922     5.013  76485.889   \n",
       "std     2886.896    71936.186       96.653    10.488     2.892  62397.405   \n",
       "min        1.000 15565701.000      350.000    18.000     0.000      0.000   \n",
       "25%     2500.750 15628528.250      584.000    32.000     3.000      0.000   \n",
       "50%     5000.500 15690738.000      652.000    37.000     5.000  97198.540   \n",
       "75%     7500.250 15753233.750      718.000    44.000     7.000 127644.240   \n",
       "max    10000.000 15815690.000      850.000    92.000    10.000 250898.090   \n",
       "\n",
       "       NumOfProducts  HasCrCard  IsActiveMember  EstimatedSalary    Exited  \n",
       "count      10000.000  10000.000       10000.000        10000.000 10000.000  \n",
       "mean           1.530      0.706           0.515       100090.240     0.204  \n",
       "std            0.582      0.456           0.500        57510.493     0.403  \n",
       "min            1.000      0.000           0.000           11.580     0.000  \n",
       "25%            1.000      0.000           0.000        51002.110     0.000  \n",
       "50%            1.000      1.000           1.000       100193.915     0.000  \n",
       "75%            2.000      1.000           1.000       149388.247     0.000  \n",
       "max            4.000      1.000           1.000       199992.480     1.000  "
      ]
     },
     "execution_count": 5,
     "metadata": {},
     "output_type": "execute_result"
    }
   ],
   "source": [
    "df.describe()"
   ]
  },
  {
   "cell_type": "code",
   "execution_count": 6,
   "metadata": {},
   "outputs": [
    {
     "data": {
      "text/plain": [
       "RowNumber          10000\n",
       "CustomerId         10000\n",
       "Surname             2932\n",
       "CreditScore          460\n",
       "Geography              3\n",
       "Gender                 2\n",
       "Age                   70\n",
       "Tenure                11\n",
       "Balance             6382\n",
       "NumOfProducts          4\n",
       "HasCrCard              2\n",
       "IsActiveMember         2\n",
       "EstimatedSalary     9999\n",
       "Exited                 2\n",
       "dtype: int64"
      ]
     },
     "execution_count": 6,
     "metadata": {},
     "output_type": "execute_result"
    }
   ],
   "source": [
    "df.nunique()"
   ]
  },
  {
   "cell_type": "code",
   "execution_count": 7,
   "metadata": {},
   "outputs": [
    {
     "data": {
      "text/plain": [
       "RowNumber          0\n",
       "CustomerId         0\n",
       "Surname            0\n",
       "CreditScore        0\n",
       "Geography          0\n",
       "Gender             0\n",
       "Age                0\n",
       "Tenure             0\n",
       "Balance            0\n",
       "NumOfProducts      0\n",
       "HasCrCard          0\n",
       "IsActiveMember     0\n",
       "EstimatedSalary    0\n",
       "Exited             0\n",
       "dtype: int64"
      ]
     },
     "execution_count": 7,
     "metadata": {},
     "output_type": "execute_result"
    }
   ],
   "source": [
    "df.isnull().sum()"
   ]
  },
  {
   "cell_type": "markdown",
   "metadata": {},
   "source": [
    "No missing values, no replicated data."
   ]
  },
  {
   "cell_type": "markdown",
   "metadata": {
    "id": "W036jsgwRdVN"
   },
   "source": [
    "## Exploratory Data Analysis"
   ]
  },
  {
   "cell_type": "markdown",
   "metadata": {},
   "source": [
    "- Overall Observations: \n",
    "    - Univariate:\n",
    "        - Right-skewed distribution with most customers aged between 30 and 40.\n",
    "        - There is normal distribution in credit score, with most customers having a range of around 600–700\n",
    "        - Uniform distribution, indicating customers are evenly distributed across the tenure range (0–10 years).\n",
    "        - Salary is uniformly, however range form 0 to 200,000 dollars. \n",
    "        - Skewed distribution with a large number of customers having a zero balance.\n",
    "        - Most customers have 1 or 2 products.\n",
    "        - Imbalance in the dataset of exited most customers stayed =0, while fewer churned =1.\n",
    "    - Bivariate :\n",
    "        - No significant relationship between estimated salary and churn.\n",
    "        - Credit score is lower then they are more likely to churn vs higher credit score.\n",
    "        - High balance customers show imbalanced churn rates. \n",
    "        - Customers 50+ in age are more likely to churn compared to younger customers.\n",
    "    "
   ]
  },
  {
   "cell_type": "markdown",
   "metadata": {
    "id": "nSFkV8KJiZSv"
   },
   "source": [
    "### Univariate Analysis"
   ]
  },
  {
   "cell_type": "code",
   "execution_count": 8,
   "metadata": {},
   "outputs": [
    {
     "data": {
      "image/png": "[encoded data removed]",
      "text/plain": [
       "<Figure size 864x576 with 6 Axes>"
      ]
     },
     "metadata": {
      "needs_background": "light"
     },
     "output_type": "display_data"
    },
    {
     "data": {
      "image/png": "[encoded data removed]",
      "text/plain": [
       "<Figure size 432x288 with 1 Axes>"
      ]
     },
     "metadata": {
      "needs_background": "light"
     },
     "output_type": "display_data"
    }
   ],
   "source": [
    "fig, axes = plt.subplots(2, 3, figsize=(12, 8))\n",
    "num_cols = ['CreditScore', 'Age', 'Tenure', 'Balance', 'NumOfProducts', 'EstimatedSalary']\n",
    "axes = axes.ravel()\n",
    "\n",
    "for i, col in enumerate(num_cols):\n",
    "    sns.histplot(df[col], bins=30, kde=True, ax=axes[i])\n",
    "    axes[i].set_title(f'Distribution of {col}')\n",
    "\n",
    "plt.tight_layout()\n",
    "plt.show()\n",
    "\n",
    "# Count plot for target variable (Exited)\n",
    "plt.figure(figsize=(6,4))\n",
    "sns.countplot(x='Exited', data=df)\n",
    "plt.title('Customer Churn Distribution')\n",
    "plt.show()"
   ]
  },
  {
   "cell_type": "markdown",
   "metadata": {
    "id": "OlHTHF4glMxS"
   },
   "source": [
    "### Bivariate Analysis"
   ]
  },
  {
   "cell_type": "code",
   "execution_count": 9,
   "metadata": {
    "id": "y_pKBXS9lLel"
   },
   "outputs": [
    {
     "data": {
      "image/png": "[encoded data removed]",
      "text/plain": [
       "<Figure size 864x576 with 4 Axes>"
      ]
     },
     "metadata": {
      "needs_background": "light"
     },
     "output_type": "display_data"
    }
   ],
   "source": [
    "fig, axes = plt.subplots(2, 2, figsize=(12, 8))\n",
    "bivariate_features = ['Age', 'CreditScore', 'Balance', 'EstimatedSalary']\n",
    "axes = axes.ravel()\n",
    "\n",
    "for i, col in enumerate(bivariate_features):\n",
    "    sns.boxplot(x='Exited', y=col, data=df, ax=axes[i])\n",
    "    axes[i].set_title(f'{col} vs Churn')\n",
    "\n",
    "plt.tight_layout()\n",
    "plt.show()"
   ]
  },
  {
   "cell_type": "code",
   "execution_count": 10,
   "metadata": {},
   "outputs": [
    {
     "name": "stdout",
     "output_type": "stream",
     "text": [
      "          count    mean     std     min     25%     50%     75%     max\n",
      "Exited                                                                 \n",
      "0      7963.000 651.853  95.654 405.000 585.000 653.000 718.000 850.000\n",
      "1      2037.000 645.351 100.322 350.000 578.000 646.000 716.000 850.000\n"
     ]
    }
   ],
   "source": [
    "print(df.groupby('Exited')['CreditScore'].describe())"
   ]
  },
  {
   "cell_type": "markdown",
   "metadata": {},
   "source": [
    "Lower median and first quartile compared to non-churned customers, indicating that customers with lower credit scores (645 from exited median vs 650 in nonexited) are more likely to leave."
   ]
  },
  {
   "cell_type": "code",
   "execution_count": 11,
   "metadata": {},
   "outputs": [
    {
     "name": "stdout",
     "output_type": "stream",
     "text": [
      "  Geography  Gender  Exited\n",
      "0    France  Female   0.203\n",
      "1    France    Male   0.127\n",
      "2   Germany  Female   0.376\n",
      "3   Germany    Male   0.278\n",
      "4     Spain  Female   0.212\n",
      "5     Spain    Male   0.131\n"
     ]
    }
   ],
   "source": [
    "# Group by Geography and Gender, calculating churn rate\n",
    "geography_gender_churn = df.groupby(['Geography', 'Gender'])['Exited'].mean().reset_index()\n",
    "print(geography_gender_churn)"
   ]
  },
  {
   "cell_type": "markdown",
   "metadata": {},
   "source": [
    "Females in Germany have the highest churn rate at 37.6%, and Spain have the lowest churn rate at 13.1%"
   ]
  },
  {
   "cell_type": "code",
   "execution_count": 12,
   "metadata": {},
   "outputs": [
    {
     "name": "stdout",
     "output_type": "stream",
     "text": [
      "NumOfProducts\n",
      "1   0.277\n",
      "2   0.076\n",
      "3   0.827\n",
      "4   1.000\n",
      "Name: Exited, dtype: float64\n"
     ]
    }
   ],
   "source": [
    "# Churn rate by NumOfProducts\n",
    "numproducts_churn = df.groupby('NumOfProducts')['Exited'].mean()\n",
    "print(numproducts_churn)\n"
   ]
  },
  {
   "cell_type": "markdown",
   "metadata": {},
   "source": [
    "Customers that have a high churn rate with 82.7% for 3 products, and 27.7% for 1 product."
   ]
  },
  {
   "cell_type": "markdown",
   "metadata": {
    "id": "CUXPaUwZHUO8"
   },
   "source": [
    "## Data Preprocessing"
   ]
  },
  {
   "cell_type": "markdown",
   "metadata": {
    "id": "1nEEjgwleiMv"
   },
   "source": [
    "### Dummy Variable Creation"
   ]
  },
  {
   "cell_type": "code",
   "execution_count": 13,
   "metadata": {
    "id": "LJ19WoAYc6Yx"
   },
   "outputs": [],
   "source": [
    "df = pd.get_dummies(df, columns=['Geography', 'Gender'], drop_first=True)"
   ]
  },
  {
   "cell_type": "markdown",
   "metadata": {},
   "source": [
    "Encode Categorical Variables by converting categorical columns to numerical values."
   ]
  },
  {
   "cell_type": "markdown",
   "metadata": {
    "id": "wgpx0xlSTlzN"
   },
   "source": [
    "### Train-validation-test Split"
   ]
  },
  {
   "cell_type": "code",
   "execution_count": 14,
   "metadata": {
    "id": "VTb3JwlaHUO-"
   },
   "outputs": [],
   "source": [
    "# Encoding and cleaning\n",
    "X = df.drop(columns=['Exited', 'Surname']) \n",
    "y = df['Exited']\n",
    "\n",
    "# Splitting the data\n",
    "X_train, X_temp, y_train, y_temp = train_test_split(X, y, test_size=0.3, random_state=42)\n",
    "X_val, X_test, y_val, y_test = train_test_split(X_temp, y_temp, test_size=0.5, random_state=42)"
   ]
  },
  {
   "cell_type": "markdown",
   "metadata": {
    "id": "qlSyq5fNHUPp"
   },
   "source": [
    "### Data Normalization"
   ]
  },
  {
   "cell_type": "code",
   "execution_count": 15,
   "metadata": {
    "id": "ltsmUrMiuegY"
   },
   "outputs": [],
   "source": [
    "# Normalizing the data\n",
    "scaler = StandardScaler()\n",
    "X_train = scaler.fit_transform(X_train)\n",
    "X_val = scaler.transform(X_val)\n",
    "X_test = scaler.transform(X_test)"
   ]
  },
  {
   "cell_type": "markdown",
   "metadata": {
    "id": "ZLQMVCywT87j"
   },
   "source": [
    "## Model Building"
   ]
  },
  {
   "cell_type": "code",
   "execution_count": 16,
   "metadata": {},
   "outputs": [],
   "source": [
    "def train_model(optimizer, X_train, y_train, X_val, y_val, dropout=False, smote=False, batch_norm=True):\n",
    "    if smote:\n",
    "        X_train, y_train = SMOTE().fit_resample(X_train, y_train)\n",
    "    \n",
    "    model = Sequential()\n",
    "    model.add(Dense(64, activation='relu', input_dim=X_train.shape[1], kernel_regularizer=l2(0.01)))  # Add L2 regularization\n",
    "    if batch_norm:\n",
    "        model.add(BatchNormalization())\n",
    "    if dropout:\n",
    "        model.add(Dropout(0.4))\n",
    "    model.add(Dense(32, activation='relu', kernel_regularizer=l2(0.01)))\n",
    "    if batch_norm:\n",
    "        model.add(BatchNormalization())\n",
    "    if dropout:\n",
    "        model.add(Dropout(0.3))\n",
    "    model.add(Dense(1, activation='sigmoid'))\n",
    "    \n",
    "\n",
    "    #Compile the model\n",
    "    model.compile(optimizer=optimizer, loss='binary_crossentropy', metrics=['accuracy'])\n",
    "    \n",
    "    # Train the model\n",
    "    history = model.fit(X_train, y_train, validation_data=(X_val, y_val), epochs=50, batch_size=32, verbose=1)\n",
    "    \n",
    "    return model"
   ]
  },
  {
   "cell_type": "markdown",
   "metadata": {
    "id": "SzDpHlsFT_QA"
   },
   "source": [
    "### Model Evaluation Criterion"
   ]
  },
  {
   "cell_type": "markdown",
   "metadata": {
    "id": "FayG94iciXVS"
   },
   "source": [
    "Write down the logic for choosing the metric that would be the best metric for this business scenario.\n",
    "\n",
    "- Since this is a classification problem with an imbalance in churned vs. non-churned customers the best metric for this scenario is the F1-score as this ensures the model performs well in both detecting churn and avoiding overestimating it. \n",
    "    - F1-scores can predict only the majority class would achieve high accuracy without addressing churn, thus adding percision and recall and ROC-AUC in for false negatives (missed churners) and false positives (unnecessary interventions) are costly.\n",
    "\n",
    "F1-score balances precision (how many predicted churners are correct) and recall (how many actual churners are identified).\n"
   ]
  },
  {
   "cell_type": "markdown",
   "metadata": {
    "id": "735HwSYiDSf1"
   },
   "source": [
    "### Neural Network with SGD Optimizer"
   ]
  },
  {
   "cell_type": "code",
   "execution_count": 17,
   "metadata": {},
   "outputs": [
    {
     "name": "stdout",
     "output_type": "stream",
     "text": [
      "Epoch 1/50\n",
      "219/219 [==============================] - 3s 4ms/step - loss: 1.2046 - accuracy: 0.6941 - val_loss: 1.0796 - val_accuracy: 0.8040\n",
      "Epoch 2/50\n",
      "219/219 [==============================] - 1s 3ms/step - loss: 1.0227 - accuracy: 0.7926 - val_loss: 0.9530 - val_accuracy: 0.8280\n",
      "Epoch 3/50\n",
      "219/219 [==============================] - 1s 3ms/step - loss: 0.9332 - accuracy: 0.8200 - val_loss: 0.8778 - val_accuracy: 0.8433\n",
      "Epoch 4/50\n",
      "219/219 [==============================] - 1s 3ms/step - loss: 0.8734 - accuracy: 0.8251 - val_loss: 0.8195 - val_accuracy: 0.8580\n",
      "Epoch 5/50\n",
      "219/219 [==============================] - 1s 3ms/step - loss: 0.8213 - accuracy: 0.8364 - val_loss: 0.7668 - val_accuracy: 0.8627\n",
      "Epoch 6/50\n",
      "219/219 [==============================] - 1s 3ms/step - loss: 0.7741 - accuracy: 0.8443 - val_loss: 0.7259 - val_accuracy: 0.8640\n",
      "Epoch 7/50\n",
      "219/219 [==============================] - 1s 3ms/step - loss: 0.7331 - accuracy: 0.8450 - val_loss: 0.6872 - val_accuracy: 0.8693\n",
      "Epoch 8/50\n",
      "219/219 [==============================] - 1s 3ms/step - loss: 0.6987 - accuracy: 0.8477 - val_loss: 0.6564 - val_accuracy: 0.8680\n",
      "Epoch 9/50\n",
      "219/219 [==============================] - 1s 3ms/step - loss: 0.6661 - accuracy: 0.8517 - val_loss: 0.6310 - val_accuracy: 0.8720\n",
      "Epoch 10/50\n",
      "219/219 [==============================] - 1s 3ms/step - loss: 0.6359 - accuracy: 0.8539 - val_loss: 0.6006 - val_accuracy: 0.8693\n",
      "Epoch 11/50\n",
      "219/219 [==============================] - 1s 2ms/step - loss: 0.6134 - accuracy: 0.8524 - val_loss: 0.5753 - val_accuracy: 0.8740\n",
      "Epoch 12/50\n",
      "219/219 [==============================] - 1s 3ms/step - loss: 0.5882 - accuracy: 0.8527 - val_loss: 0.5535 - val_accuracy: 0.8733\n",
      "Epoch 13/50\n",
      "219/219 [==============================] - 1s 3ms/step - loss: 0.5670 - accuracy: 0.8550 - val_loss: 0.5389 - val_accuracy: 0.8727\n",
      "Epoch 14/50\n",
      "219/219 [==============================] - 1s 2ms/step - loss: 0.5453 - accuracy: 0.8540 - val_loss: 0.5219 - val_accuracy: 0.8747\n",
      "Epoch 15/50\n",
      "219/219 [==============================] - 0s 2ms/step - loss: 0.5253 - accuracy: 0.8579 - val_loss: 0.5069 - val_accuracy: 0.8687\n",
      "Epoch 16/50\n",
      "219/219 [==============================] - 0s 2ms/step - loss: 0.5100 - accuracy: 0.8593 - val_loss: 0.5013 - val_accuracy: 0.8620\n",
      "Epoch 17/50\n",
      "219/219 [==============================] - 1s 2ms/step - loss: 0.4943 - accuracy: 0.8594 - val_loss: 0.4789 - val_accuracy: 0.8713\n",
      "Epoch 18/50\n",
      "219/219 [==============================] - 1s 2ms/step - loss: 0.4798 - accuracy: 0.8604 - val_loss: 0.4682 - val_accuracy: 0.8680\n",
      "Epoch 19/50\n",
      "219/219 [==============================] - 1s 3ms/step - loss: 0.4645 - accuracy: 0.8633 - val_loss: 0.4600 - val_accuracy: 0.8693\n",
      "Epoch 20/50\n",
      "219/219 [==============================] - 1s 3ms/step - loss: 0.4494 - accuracy: 0.8607 - val_loss: 0.4533 - val_accuracy: 0.8627\n",
      "Epoch 21/50\n",
      "219/219 [==============================] - 1s 2ms/step - loss: 0.4421 - accuracy: 0.8593 - val_loss: 0.4407 - val_accuracy: 0.8720\n",
      "Epoch 22/50\n",
      "219/219 [==============================] - 1s 3ms/step - loss: 0.4333 - accuracy: 0.8596 - val_loss: 0.4363 - val_accuracy: 0.8613\n",
      "Epoch 23/50\n",
      "219/219 [==============================] - 1s 3ms/step - loss: 0.4215 - accuracy: 0.8651 - val_loss: 0.4239 - val_accuracy: 0.8740\n",
      "Epoch 24/50\n",
      "219/219 [==============================] - 1s 3ms/step - loss: 0.4197 - accuracy: 0.8576 - val_loss: 0.4257 - val_accuracy: 0.8633\n",
      "Epoch 25/50\n",
      "219/219 [==============================] - 1s 3ms/step - loss: 0.4119 - accuracy: 0.8610 - val_loss: 0.4190 - val_accuracy: 0.8640\n",
      "Epoch 26/50\n",
      "219/219 [==============================] - 1s 3ms/step - loss: 0.4048 - accuracy: 0.8614 - val_loss: 0.4113 - val_accuracy: 0.8687\n",
      "Epoch 27/50\n",
      "219/219 [==============================] - 1s 3ms/step - loss: 0.3965 - accuracy: 0.8666 - val_loss: 0.4128 - val_accuracy: 0.8667\n",
      "Epoch 28/50\n",
      "219/219 [==============================] - 1s 3ms/step - loss: 0.3916 - accuracy: 0.8646 - val_loss: 0.4021 - val_accuracy: 0.8707\n",
      "Epoch 29/50\n",
      "219/219 [==============================] - 1s 3ms/step - loss: 0.3884 - accuracy: 0.8629 - val_loss: 0.3994 - val_accuracy: 0.8747\n",
      "Epoch 30/50\n",
      "219/219 [==============================] - 1s 3ms/step - loss: 0.3804 - accuracy: 0.8653 - val_loss: 0.4049 - val_accuracy: 0.8700\n",
      "Epoch 31/50\n",
      "219/219 [==============================] - 1s 2ms/step - loss: 0.3723 - accuracy: 0.8687 - val_loss: 0.4043 - val_accuracy: 0.8587\n",
      "Epoch 32/50\n",
      "219/219 [==============================] - 1s 3ms/step - loss: 0.3774 - accuracy: 0.8650 - val_loss: 0.4031 - val_accuracy: 0.8587\n",
      "Epoch 33/50\n",
      "219/219 [==============================] - 1s 3ms/step - loss: 0.3759 - accuracy: 0.8634 - val_loss: 0.3980 - val_accuracy: 0.8660\n",
      "Epoch 34/50\n",
      "219/219 [==============================] - 1s 3ms/step - loss: 0.3673 - accuracy: 0.8647 - val_loss: 0.3965 - val_accuracy: 0.8613\n",
      "Epoch 35/50\n",
      "219/219 [==============================] - 1s 3ms/step - loss: 0.3684 - accuracy: 0.8670 - val_loss: 0.3972 - val_accuracy: 0.8560\n",
      "Epoch 36/50\n",
      "219/219 [==============================] - 1s 3ms/step - loss: 0.3676 - accuracy: 0.8637 - val_loss: 0.3869 - val_accuracy: 0.8653\n",
      "Epoch 37/50\n",
      "219/219 [==============================] - 1s 3ms/step - loss: 0.3645 - accuracy: 0.8659 - val_loss: 0.3897 - val_accuracy: 0.8620\n",
      "Epoch 38/50\n",
      "219/219 [==============================] - 1s 3ms/step - loss: 0.3582 - accuracy: 0.8671 - val_loss: 0.3857 - val_accuracy: 0.8593\n",
      "Epoch 39/50\n",
      "219/219 [==============================] - 1s 2ms/step - loss: 0.3652 - accuracy: 0.8667 - val_loss: 0.3914 - val_accuracy: 0.8673\n",
      "Epoch 40/50\n",
      "219/219 [==============================] - 1s 3ms/step - loss: 0.3634 - accuracy: 0.8609 - val_loss: 0.3793 - val_accuracy: 0.8613\n",
      "Epoch 41/50\n",
      "219/219 [==============================] - 1s 3ms/step - loss: 0.3545 - accuracy: 0.8649 - val_loss: 0.3870 - val_accuracy: 0.8647\n",
      "Epoch 42/50\n",
      "219/219 [==============================] - 1s 3ms/step - loss: 0.3528 - accuracy: 0.8677 - val_loss: 0.3796 - val_accuracy: 0.8640\n",
      "Epoch 43/50\n",
      "219/219 [==============================] - 1s 3ms/step - loss: 0.3516 - accuracy: 0.8679 - val_loss: 0.3921 - val_accuracy: 0.8653\n",
      "Epoch 44/50\n",
      "219/219 [==============================] - 1s 3ms/step - loss: 0.3536 - accuracy: 0.8664 - val_loss: 0.3859 - val_accuracy: 0.8640\n",
      "Epoch 45/50\n",
      "219/219 [==============================] - 1s 3ms/step - loss: 0.3518 - accuracy: 0.8673 - val_loss: 0.3873 - val_accuracy: 0.8587\n",
      "Epoch 46/50\n",
      "219/219 [==============================] - 1s 3ms/step - loss: 0.3540 - accuracy: 0.8650 - val_loss: 0.3874 - val_accuracy: 0.8647\n",
      "Epoch 47/50\n",
      "219/219 [==============================] - 1s 3ms/step - loss: 0.3481 - accuracy: 0.8660 - val_loss: 0.3956 - val_accuracy: 0.8573\n",
      "Epoch 48/50\n",
      "219/219 [==============================] - 1s 3ms/step - loss: 0.3493 - accuracy: 0.8676 - val_loss: 0.3883 - val_accuracy: 0.8600\n",
      "Epoch 49/50\n",
      "219/219 [==============================] - 1s 3ms/step - loss: 0.3525 - accuracy: 0.8637 - val_loss: 0.3774 - val_accuracy: 0.8707\n",
      "Epoch 50/50\n",
      "219/219 [==============================] - 1s 3ms/step - loss: 0.3499 - accuracy: 0.8649 - val_loss: 0.3853 - val_accuracy: 0.8667\n"
     ]
    }
   ],
   "source": [
    "sgd_optimizer = SGD(learning_rate=0.01, momentum=0.9)\n",
    "model_sgd_l2 = train_model(optimizer='sgd', X_train=X_train, y_train=y_train, X_val=X_val, y_val=y_val)"
   ]
  },
  {
   "cell_type": "code",
   "execution_count": 18,
   "metadata": {
    "id": "ScqNP3QjDSf3"
   },
   "outputs": [
    {
     "name": "stdout",
     "output_type": "stream",
     "text": [
      "Epoch 1/50\n",
      "219/219 [==============================] - 3s 4ms/step - loss: 1.0670 - accuracy: 0.7473 - val_loss: 0.8622 - val_accuracy: 0.8127\n",
      "Epoch 2/50\n",
      "219/219 [==============================] - 1s 3ms/step - loss: 0.8046 - accuracy: 0.8060 - val_loss: 0.6851 - val_accuracy: 0.8247\n",
      "Epoch 3/50\n",
      "219/219 [==============================] - 1s 3ms/step - loss: 0.6564 - accuracy: 0.8117 - val_loss: 0.5650 - val_accuracy: 0.8313\n",
      "Epoch 4/50\n",
      "219/219 [==============================] - 1s 3ms/step - loss: 0.5598 - accuracy: 0.8233 - val_loss: 0.4843 - val_accuracy: 0.8560\n",
      "Epoch 5/50\n",
      "219/219 [==============================] - 1s 3ms/step - loss: 0.5011 - accuracy: 0.8286 - val_loss: 0.4339 - val_accuracy: 0.8653\n",
      "Epoch 6/50\n",
      "219/219 [==============================] - 1s 3ms/step - loss: 0.4645 - accuracy: 0.8353 - val_loss: 0.4087 - val_accuracy: 0.8567\n",
      "Epoch 7/50\n",
      "219/219 [==============================] - 1s 3ms/step - loss: 0.4442 - accuracy: 0.8349 - val_loss: 0.3908 - val_accuracy: 0.8627\n",
      "Epoch 8/50\n",
      "219/219 [==============================] - 1s 3ms/step - loss: 0.4268 - accuracy: 0.8379 - val_loss: 0.3747 - val_accuracy: 0.8700\n",
      "Epoch 9/50\n",
      "219/219 [==============================] - 1s 3ms/step - loss: 0.4237 - accuracy: 0.8351 - val_loss: 0.3715 - val_accuracy: 0.8687\n",
      "Epoch 10/50\n",
      "219/219 [==============================] - 1s 3ms/step - loss: 0.4199 - accuracy: 0.8339 - val_loss: 0.3649 - val_accuracy: 0.8627\n",
      "Epoch 11/50\n",
      "219/219 [==============================] - 1s 3ms/step - loss: 0.4128 - accuracy: 0.8397 - val_loss: 0.3643 - val_accuracy: 0.8620\n",
      "Epoch 12/50\n",
      "219/219 [==============================] - 1s 3ms/step - loss: 0.4045 - accuracy: 0.8431 - val_loss: 0.3615 - val_accuracy: 0.8727\n",
      "Epoch 13/50\n",
      "219/219 [==============================] - 1s 3ms/step - loss: 0.4103 - accuracy: 0.8416 - val_loss: 0.3594 - val_accuracy: 0.8740\n",
      "Epoch 14/50\n",
      "219/219 [==============================] - 1s 3ms/step - loss: 0.4075 - accuracy: 0.8433 - val_loss: 0.3663 - val_accuracy: 0.8653\n",
      "Epoch 15/50\n",
      "219/219 [==============================] - 1s 3ms/step - loss: 0.4081 - accuracy: 0.8391 - val_loss: 0.3617 - val_accuracy: 0.8647\n",
      "Epoch 16/50\n",
      "219/219 [==============================] - 1s 3ms/step - loss: 0.4067 - accuracy: 0.8399 - val_loss: 0.3596 - val_accuracy: 0.8667\n",
      "Epoch 17/50\n",
      "219/219 [==============================] - 1s 3ms/step - loss: 0.3986 - accuracy: 0.8424 - val_loss: 0.3607 - val_accuracy: 0.8660\n",
      "Epoch 18/50\n",
      "219/219 [==============================] - 1s 3ms/step - loss: 0.4045 - accuracy: 0.8413 - val_loss: 0.3612 - val_accuracy: 0.8700\n",
      "Epoch 19/50\n",
      "219/219 [==============================] - 1s 3ms/step - loss: 0.4086 - accuracy: 0.8359 - val_loss: 0.3538 - val_accuracy: 0.8740\n",
      "Epoch 20/50\n",
      "219/219 [==============================] - 1s 3ms/step - loss: 0.4102 - accuracy: 0.8380 - val_loss: 0.3559 - val_accuracy: 0.8700\n",
      "Epoch 21/50\n",
      "219/219 [==============================] - 1s 3ms/step - loss: 0.3999 - accuracy: 0.8436 - val_loss: 0.3581 - val_accuracy: 0.8687\n",
      "Epoch 22/50\n",
      "219/219 [==============================] - 1s 3ms/step - loss: 0.3978 - accuracy: 0.8456 - val_loss: 0.3533 - val_accuracy: 0.8713\n",
      "Epoch 23/50\n",
      "219/219 [==============================] - 1s 3ms/step - loss: 0.4013 - accuracy: 0.8390 - val_loss: 0.3661 - val_accuracy: 0.8673\n",
      "Epoch 24/50\n",
      "219/219 [==============================] - 1s 3ms/step - loss: 0.4029 - accuracy: 0.8404 - val_loss: 0.3577 - val_accuracy: 0.8707\n",
      "Epoch 25/50\n",
      "219/219 [==============================] - 1s 3ms/step - loss: 0.4052 - accuracy: 0.8387 - val_loss: 0.3632 - val_accuracy: 0.8653\n",
      "Epoch 26/50\n",
      "219/219 [==============================] - 1s 3ms/step - loss: 0.4056 - accuracy: 0.8390 - val_loss: 0.3619 - val_accuracy: 0.8747\n",
      "Epoch 27/50\n",
      "219/219 [==============================] - 1s 3ms/step - loss: 0.4070 - accuracy: 0.8417 - val_loss: 0.3546 - val_accuracy: 0.8707\n",
      "Epoch 28/50\n",
      "219/219 [==============================] - 1s 3ms/step - loss: 0.4052 - accuracy: 0.8393 - val_loss: 0.3582 - val_accuracy: 0.8700\n",
      "Epoch 29/50\n",
      "219/219 [==============================] - 1s 3ms/step - loss: 0.3997 - accuracy: 0.8409 - val_loss: 0.3670 - val_accuracy: 0.8693\n",
      "Epoch 30/50\n",
      "219/219 [==============================] - 1s 3ms/step - loss: 0.4004 - accuracy: 0.8416 - val_loss: 0.3596 - val_accuracy: 0.8687\n",
      "Epoch 31/50\n",
      "219/219 [==============================] - 1s 3ms/step - loss: 0.4039 - accuracy: 0.8371 - val_loss: 0.3718 - val_accuracy: 0.8673\n",
      "Epoch 32/50\n",
      "219/219 [==============================] - 1s 3ms/step - loss: 0.4020 - accuracy: 0.8433 - val_loss: 0.3591 - val_accuracy: 0.8593\n",
      "Epoch 33/50\n",
      "219/219 [==============================] - 1s 3ms/step - loss: 0.4025 - accuracy: 0.8426 - val_loss: 0.3573 - val_accuracy: 0.8733\n",
      "Epoch 34/50\n",
      "219/219 [==============================] - 1s 3ms/step - loss: 0.4011 - accuracy: 0.8397 - val_loss: 0.3585 - val_accuracy: 0.8727\n",
      "Epoch 35/50\n",
      "219/219 [==============================] - 1s 3ms/step - loss: 0.3959 - accuracy: 0.8409 - val_loss: 0.3666 - val_accuracy: 0.8613\n",
      "Epoch 36/50\n",
      "219/219 [==============================] - 1s 3ms/step - loss: 0.4066 - accuracy: 0.8380 - val_loss: 0.3688 - val_accuracy: 0.8647\n",
      "Epoch 37/50\n",
      "219/219 [==============================] - 1s 3ms/step - loss: 0.4035 - accuracy: 0.8410 - val_loss: 0.3608 - val_accuracy: 0.8700\n",
      "Epoch 38/50\n",
      "219/219 [==============================] - 1s 3ms/step - loss: 0.3984 - accuracy: 0.8451 - val_loss: 0.3610 - val_accuracy: 0.8687\n",
      "Epoch 39/50\n",
      "219/219 [==============================] - 1s 3ms/step - loss: 0.4009 - accuracy: 0.8437 - val_loss: 0.3620 - val_accuracy: 0.8727\n",
      "Epoch 40/50\n",
      "219/219 [==============================] - 1s 3ms/step - loss: 0.4000 - accuracy: 0.8427 - val_loss: 0.3653 - val_accuracy: 0.8647\n",
      "Epoch 41/50\n",
      "219/219 [==============================] - 1s 3ms/step - loss: 0.3979 - accuracy: 0.8459 - val_loss: 0.3557 - val_accuracy: 0.8633\n",
      "Epoch 42/50\n",
      "219/219 [==============================] - 1s 3ms/step - loss: 0.4070 - accuracy: 0.8416 - val_loss: 0.3702 - val_accuracy: 0.8627\n",
      "Epoch 43/50\n",
      "219/219 [==============================] - 1s 3ms/step - loss: 0.4034 - accuracy: 0.8427 - val_loss: 0.3576 - val_accuracy: 0.8673\n",
      "Epoch 44/50\n",
      "219/219 [==============================] - 1s 3ms/step - loss: 0.4041 - accuracy: 0.8430 - val_loss: 0.3586 - val_accuracy: 0.8700\n",
      "Epoch 45/50\n",
      "219/219 [==============================] - 1s 3ms/step - loss: 0.3975 - accuracy: 0.8429 - val_loss: 0.3540 - val_accuracy: 0.8713\n",
      "Epoch 46/50\n",
      "219/219 [==============================] - 1s 3ms/step - loss: 0.3944 - accuracy: 0.8427 - val_loss: 0.3547 - val_accuracy: 0.8733\n",
      "Epoch 47/50\n",
      "219/219 [==============================] - 1s 3ms/step - loss: 0.4012 - accuracy: 0.8424 - val_loss: 0.3661 - val_accuracy: 0.8660\n",
      "Epoch 48/50\n",
      "219/219 [==============================] - 1s 3ms/step - loss: 0.3993 - accuracy: 0.8430 - val_loss: 0.3622 - val_accuracy: 0.8553\n",
      "Epoch 49/50\n",
      "219/219 [==============================] - 1s 3ms/step - loss: 0.4002 - accuracy: 0.8413 - val_loss: 0.3593 - val_accuracy: 0.8673\n",
      "Epoch 50/50\n",
      "219/219 [==============================] - 1s 3ms/step - loss: 0.4023 - accuracy: 0.8404 - val_loss: 0.3560 - val_accuracy: 0.8707\n"
     ]
    }
   ],
   "source": [
    "model_sgd = train_model(SGD(learning_rate=0.005, momentum=0.9), X_train, y_train, X_val, y_val, dropout=True, smote=False)"
   ]
  },
  {
   "cell_type": "markdown",
   "metadata": {
    "id": "ygzPHkE_Anaw"
   },
   "source": [
    "## Model Performance Improvement"
   ]
  },
  {
   "cell_type": "markdown",
   "metadata": {
    "id": "EcEiT7Vyc6Y0"
   },
   "source": [
    "### Neural Network with Adam Optimizer"
   ]
  },
  {
   "cell_type": "code",
   "execution_count": 19,
   "metadata": {},
   "outputs": [
    {
     "name": "stdout",
     "output_type": "stream",
     "text": [
      "Epoch 1/50\n",
      "219/219 [==============================] - 3s 6ms/step - loss: 1.0046 - accuracy: 0.7414 - val_loss: 0.7699 - val_accuracy: 0.8400\n",
      "Epoch 2/50\n",
      "219/219 [==============================] - 1s 4ms/step - loss: 0.6866 - accuracy: 0.8366 - val_loss: 0.5934 - val_accuracy: 0.8600\n",
      "Epoch 3/50\n",
      "219/219 [==============================] - 1s 4ms/step - loss: 0.5727 - accuracy: 0.8440 - val_loss: 0.5189 - val_accuracy: 0.8647\n",
      "Epoch 4/50\n",
      "219/219 [==============================] - 1s 4ms/step - loss: 0.5095 - accuracy: 0.8481 - val_loss: 0.4664 - val_accuracy: 0.8673\n",
      "Epoch 5/50\n",
      "219/219 [==============================] - 1s 4ms/step - loss: 0.4675 - accuracy: 0.8543 - val_loss: 0.4412 - val_accuracy: 0.8667\n",
      "Epoch 6/50\n",
      "219/219 [==============================] - 1s 4ms/step - loss: 0.4388 - accuracy: 0.8557 - val_loss: 0.4243 - val_accuracy: 0.8627\n",
      "Epoch 7/50\n",
      "219/219 [==============================] - 1s 4ms/step - loss: 0.4239 - accuracy: 0.8527 - val_loss: 0.4046 - val_accuracy: 0.8660\n",
      "Epoch 8/50\n",
      "219/219 [==============================] - 1s 4ms/step - loss: 0.4120 - accuracy: 0.8543 - val_loss: 0.3911 - val_accuracy: 0.8673\n",
      "Epoch 9/50\n",
      "219/219 [==============================] - 1s 3ms/step - loss: 0.3973 - accuracy: 0.8549 - val_loss: 0.3846 - val_accuracy: 0.8627\n",
      "Epoch 10/50\n",
      "219/219 [==============================] - 1s 4ms/step - loss: 0.3923 - accuracy: 0.8581 - val_loss: 0.3771 - val_accuracy: 0.8687\n",
      "Epoch 11/50\n",
      "219/219 [==============================] - ETA: 0s - loss: 0.3830 - accuracy: 0.85 - 1s 4ms/step - loss: 0.3848 - accuracy: 0.8569 - val_loss: 0.3916 - val_accuracy: 0.8620\n",
      "Epoch 12/50\n",
      "219/219 [==============================] - 1s 4ms/step - loss: 0.3817 - accuracy: 0.8569 - val_loss: 0.3674 - val_accuracy: 0.8640\n",
      "Epoch 13/50\n",
      "219/219 [==============================] - 1s 4ms/step - loss: 0.3777 - accuracy: 0.8544 - val_loss: 0.3725 - val_accuracy: 0.8687\n",
      "Epoch 14/50\n",
      "219/219 [==============================] - 1s 4ms/step - loss: 0.3750 - accuracy: 0.8587 - val_loss: 0.3668 - val_accuracy: 0.8687\n",
      "Epoch 15/50\n",
      "219/219 [==============================] - 1s 4ms/step - loss: 0.3768 - accuracy: 0.8576 - val_loss: 0.3618 - val_accuracy: 0.8687\n",
      "Epoch 16/50\n",
      "219/219 [==============================] - 1s 4ms/step - loss: 0.3675 - accuracy: 0.8627 - val_loss: 0.3650 - val_accuracy: 0.8693\n",
      "Epoch 17/50\n",
      "219/219 [==============================] - 1s 4ms/step - loss: 0.3696 - accuracy: 0.8579 - val_loss: 0.3737 - val_accuracy: 0.8680\n",
      "Epoch 18/50\n",
      "219/219 [==============================] - 1s 4ms/step - loss: 0.3706 - accuracy: 0.8583 - val_loss: 0.3681 - val_accuracy: 0.8687\n",
      "Epoch 19/50\n",
      "219/219 [==============================] - 1s 4ms/step - loss: 0.3665 - accuracy: 0.8609 - val_loss: 0.3567 - val_accuracy: 0.8727\n",
      "Epoch 20/50\n",
      "219/219 [==============================] - 1s 4ms/step - loss: 0.3627 - accuracy: 0.8566 - val_loss: 0.3635 - val_accuracy: 0.8720\n",
      "Epoch 21/50\n",
      "219/219 [==============================] - 1s 4ms/step - loss: 0.3639 - accuracy: 0.8601 - val_loss: 0.3700 - val_accuracy: 0.8647\n",
      "Epoch 22/50\n",
      "219/219 [==============================] - 1s 4ms/step - loss: 0.3632 - accuracy: 0.8626 - val_loss: 0.3574 - val_accuracy: 0.8740\n",
      "Epoch 23/50\n",
      "219/219 [==============================] - 1s 4ms/step - loss: 0.3564 - accuracy: 0.8619 - val_loss: 0.3605 - val_accuracy: 0.8660\n",
      "Epoch 24/50\n",
      "219/219 [==============================] - 1s 4ms/step - loss: 0.3604 - accuracy: 0.8617 - val_loss: 0.3644 - val_accuracy: 0.8673\n",
      "Epoch 25/50\n",
      "219/219 [==============================] - 1s 4ms/step - loss: 0.3629 - accuracy: 0.8607 - val_loss: 0.3665 - val_accuracy: 0.8640\n",
      "Epoch 26/50\n",
      "219/219 [==============================] - 1s 4ms/step - loss: 0.3597 - accuracy: 0.8607 - val_loss: 0.3656 - val_accuracy: 0.8700\n",
      "Epoch 27/50\n",
      "219/219 [==============================] - 1s 4ms/step - loss: 0.3555 - accuracy: 0.8626 - val_loss: 0.3669 - val_accuracy: 0.8667\n",
      "Epoch 28/50\n",
      "219/219 [==============================] - 1s 3ms/step - loss: 0.3570 - accuracy: 0.8619 - val_loss: 0.3684 - val_accuracy: 0.8613\n",
      "Epoch 29/50\n",
      "219/219 [==============================] - 1s 4ms/step - loss: 0.3543 - accuracy: 0.8609 - val_loss: 0.3507 - val_accuracy: 0.8747\n",
      "Epoch 30/50\n",
      "219/219 [==============================] - 1s 3ms/step - loss: 0.3541 - accuracy: 0.8640 - val_loss: 0.3654 - val_accuracy: 0.8647\n",
      "Epoch 31/50\n",
      "219/219 [==============================] - 1s 4ms/step - loss: 0.3553 - accuracy: 0.8624 - val_loss: 0.3614 - val_accuracy: 0.8740\n",
      "Epoch 32/50\n",
      "219/219 [==============================] - 1s 4ms/step - loss: 0.3539 - accuracy: 0.8601 - val_loss: 0.3630 - val_accuracy: 0.8593\n",
      "Epoch 33/50\n",
      "219/219 [==============================] - 1s 4ms/step - loss: 0.3466 - accuracy: 0.8649 - val_loss: 0.3659 - val_accuracy: 0.8727\n",
      "Epoch 34/50\n",
      "219/219 [==============================] - 1s 4ms/step - loss: 0.3495 - accuracy: 0.8656 - val_loss: 0.3871 - val_accuracy: 0.8647\n",
      "Epoch 35/50\n",
      "219/219 [==============================] - 1s 3ms/step - loss: 0.3451 - accuracy: 0.8644 - val_loss: 0.3715 - val_accuracy: 0.8673\n",
      "Epoch 36/50\n",
      "219/219 [==============================] - 1s 4ms/step - loss: 0.3482 - accuracy: 0.8664 - val_loss: 0.3595 - val_accuracy: 0.8753\n",
      "Epoch 37/50\n",
      "219/219 [==============================] - 1s 4ms/step - loss: 0.3462 - accuracy: 0.8663 - val_loss: 0.3750 - val_accuracy: 0.8660\n",
      "Epoch 38/50\n",
      "219/219 [==============================] - 1s 4ms/step - loss: 0.3489 - accuracy: 0.8636 - val_loss: 0.3710 - val_accuracy: 0.8620\n",
      "Epoch 39/50\n",
      "219/219 [==============================] - 1s 4ms/step - loss: 0.3490 - accuracy: 0.8644 - val_loss: 0.3722 - val_accuracy: 0.8700\n",
      "Epoch 40/50\n",
      "219/219 [==============================] - 1s 4ms/step - loss: 0.3491 - accuracy: 0.8634 - val_loss: 0.3682 - val_accuracy: 0.8713\n",
      "Epoch 41/50\n",
      "219/219 [==============================] - 1s 4ms/step - loss: 0.3446 - accuracy: 0.8681 - val_loss: 0.3745 - val_accuracy: 0.8673\n",
      "Epoch 42/50\n",
      "219/219 [==============================] - 1s 4ms/step - loss: 0.3420 - accuracy: 0.8687 - val_loss: 0.3786 - val_accuracy: 0.8587\n",
      "Epoch 43/50\n",
      "219/219 [==============================] - 1s 4ms/step - loss: 0.3394 - accuracy: 0.8691 - val_loss: 0.3756 - val_accuracy: 0.8633\n",
      "Epoch 44/50\n",
      "219/219 [==============================] - 1s 4ms/step - loss: 0.3419 - accuracy: 0.8709 - val_loss: 0.3837 - val_accuracy: 0.8740\n",
      "Epoch 45/50\n",
      "219/219 [==============================] - 1s 4ms/step - loss: 0.3413 - accuracy: 0.8661 - val_loss: 0.3795 - val_accuracy: 0.8700\n",
      "Epoch 46/50\n",
      "219/219 [==============================] - 1s 4ms/step - loss: 0.3358 - accuracy: 0.8691 - val_loss: 0.3779 - val_accuracy: 0.8580\n",
      "Epoch 47/50\n",
      "219/219 [==============================] - 1s 4ms/step - loss: 0.3408 - accuracy: 0.8703 - val_loss: 0.3932 - val_accuracy: 0.8667\n",
      "Epoch 48/50\n",
      "219/219 [==============================] - 1s 4ms/step - loss: 0.3438 - accuracy: 0.8646 - val_loss: 0.3922 - val_accuracy: 0.8620\n",
      "Epoch 49/50\n",
      "219/219 [==============================] - 1s 4ms/step - loss: 0.3347 - accuracy: 0.8677 - val_loss: 0.3790 - val_accuracy: 0.8620\n",
      "Epoch 50/50\n",
      "219/219 [==============================] - 1s 4ms/step - loss: 0.3353 - accuracy: 0.8697 - val_loss: 0.3900 - val_accuracy: 0.8660\n"
     ]
    }
   ],
   "source": [
    "adam_optimizer = Adam(learning_rate=0.001)\n",
    "model_adam_smote_dropout= train_model(adam_optimizer, X_train, y_train, X_val, y_val)\n"
   ]
  },
  {
   "cell_type": "code",
   "execution_count": 20,
   "metadata": {
    "id": "_5anPDAru0Vq"
   },
   "outputs": [
    {
     "name": "stdout",
     "output_type": "stream",
     "text": [
      "Epoch 1/50\n",
      "219/219 [==============================] - 3s 6ms/step - loss: 1.0399 - accuracy: 0.7406 - val_loss: 0.7973 - val_accuracy: 0.8393\n",
      "Epoch 2/50\n",
      "219/219 [==============================] - 1s 4ms/step - loss: 0.7244 - accuracy: 0.8374 - val_loss: 0.6330 - val_accuracy: 0.8547\n",
      "Epoch 3/50\n",
      "219/219 [==============================] - 1s 4ms/step - loss: 0.6113 - accuracy: 0.8443 - val_loss: 0.5457 - val_accuracy: 0.8720\n",
      "Epoch 4/50\n",
      "219/219 [==============================] - 1s 4ms/step - loss: 0.5409 - accuracy: 0.8474 - val_loss: 0.4976 - val_accuracy: 0.8667\n",
      "Epoch 5/50\n",
      "219/219 [==============================] - 1s 4ms/step - loss: 0.4926 - accuracy: 0.8457 - val_loss: 0.4652 - val_accuracy: 0.8600\n",
      "Epoch 6/50\n",
      "219/219 [==============================] - 1s 4ms/step - loss: 0.4587 - accuracy: 0.8487 - val_loss: 0.4359 - val_accuracy: 0.8647\n",
      "Epoch 7/50\n",
      "219/219 [==============================] - 1s 3ms/step - loss: 0.4377 - accuracy: 0.8496 - val_loss: 0.4223 - val_accuracy: 0.8580\n",
      "Epoch 8/50\n",
      "219/219 [==============================] - 1s 4ms/step - loss: 0.4149 - accuracy: 0.8557 - val_loss: 0.4042 - val_accuracy: 0.8667\n",
      "Epoch 9/50\n",
      "219/219 [==============================] - 1s 4ms/step - loss: 0.4037 - accuracy: 0.8570 - val_loss: 0.4049 - val_accuracy: 0.8573\n",
      "Epoch 10/50\n",
      "219/219 [==============================] - 1s 4ms/step - loss: 0.3990 - accuracy: 0.8566 - val_loss: 0.3909 - val_accuracy: 0.8607\n",
      "Epoch 11/50\n",
      "219/219 [==============================] - 1s 4ms/step - loss: 0.3878 - accuracy: 0.8560 - val_loss: 0.3861 - val_accuracy: 0.8647\n",
      "Epoch 12/50\n",
      "219/219 [==============================] - 1s 3ms/step - loss: 0.3892 - accuracy: 0.8564 - val_loss: 0.3873 - val_accuracy: 0.8640\n",
      "Epoch 13/50\n",
      "219/219 [==============================] - 1s 3ms/step - loss: 0.3822 - accuracy: 0.8536 - val_loss: 0.3764 - val_accuracy: 0.8607\n",
      "Epoch 14/50\n",
      "219/219 [==============================] - 1s 4ms/step - loss: 0.3794 - accuracy: 0.8556 - val_loss: 0.3661 - val_accuracy: 0.8707\n",
      "Epoch 15/50\n",
      "219/219 [==============================] - 1s 4ms/step - loss: 0.3763 - accuracy: 0.8537 - val_loss: 0.3656 - val_accuracy: 0.8660\n",
      "Epoch 16/50\n",
      "219/219 [==============================] - 1s 4ms/step - loss: 0.3747 - accuracy: 0.8597 - val_loss: 0.3659 - val_accuracy: 0.8660\n",
      "Epoch 17/50\n",
      "219/219 [==============================] - 1s 4ms/step - loss: 0.3714 - accuracy: 0.8551 - val_loss: 0.3621 - val_accuracy: 0.8767\n",
      "Epoch 18/50\n",
      "219/219 [==============================] - 1s 4ms/step - loss: 0.3692 - accuracy: 0.8574 - val_loss: 0.3618 - val_accuracy: 0.8687\n",
      "Epoch 19/50\n",
      "219/219 [==============================] - 1s 4ms/step - loss: 0.3679 - accuracy: 0.8580 - val_loss: 0.3699 - val_accuracy: 0.8533\n",
      "Epoch 20/50\n",
      "219/219 [==============================] - 1s 4ms/step - loss: 0.3621 - accuracy: 0.8609 - val_loss: 0.3663 - val_accuracy: 0.8707\n",
      "Epoch 21/50\n",
      "219/219 [==============================] - 1s 4ms/step - loss: 0.3682 - accuracy: 0.8579 - val_loss: 0.3675 - val_accuracy: 0.8667\n",
      "Epoch 22/50\n",
      "219/219 [==============================] - 1s 4ms/step - loss: 0.3628 - accuracy: 0.8596 - val_loss: 0.3879 - val_accuracy: 0.8600\n",
      "Epoch 23/50\n",
      "219/219 [==============================] - 1s 4ms/step - loss: 0.3626 - accuracy: 0.8576 - val_loss: 0.3705 - val_accuracy: 0.8627\n",
      "Epoch 24/50\n",
      "219/219 [==============================] - 1s 4ms/step - loss: 0.3643 - accuracy: 0.8607 - val_loss: 0.3665 - val_accuracy: 0.8700\n",
      "Epoch 25/50\n",
      "219/219 [==============================] - 1s 4ms/step - loss: 0.3567 - accuracy: 0.8619 - val_loss: 0.3729 - val_accuracy: 0.8640\n",
      "Epoch 26/50\n",
      "219/219 [==============================] - 1s 4ms/step - loss: 0.3581 - accuracy: 0.8639 - val_loss: 0.3668 - val_accuracy: 0.8667\n",
      "Epoch 27/50\n",
      "219/219 [==============================] - 1s 4ms/step - loss: 0.3584 - accuracy: 0.8637 - val_loss: 0.3637 - val_accuracy: 0.8673\n",
      "Epoch 28/50\n",
      "219/219 [==============================] - 1s 4ms/step - loss: 0.3624 - accuracy: 0.8587 - val_loss: 0.3643 - val_accuracy: 0.8653\n",
      "Epoch 29/50\n",
      "219/219 [==============================] - 1s 4ms/step - loss: 0.3595 - accuracy: 0.8607 - val_loss: 0.3562 - val_accuracy: 0.8700\n",
      "Epoch 30/50\n",
      "219/219 [==============================] - 1s 4ms/step - loss: 0.3587 - accuracy: 0.8604 - val_loss: 0.3665 - val_accuracy: 0.8627\n",
      "Epoch 31/50\n",
      "219/219 [==============================] - 1s 4ms/step - loss: 0.3547 - accuracy: 0.8604 - val_loss: 0.3697 - val_accuracy: 0.8660\n",
      "Epoch 32/50\n",
      "219/219 [==============================] - 1s 4ms/step - loss: 0.3532 - accuracy: 0.8604 - val_loss: 0.3679 - val_accuracy: 0.8627\n",
      "Epoch 33/50\n",
      "219/219 [==============================] - 1s 4ms/step - loss: 0.3559 - accuracy: 0.8601 - val_loss: 0.3772 - val_accuracy: 0.8567\n",
      "Epoch 34/50\n",
      "219/219 [==============================] - 1s 4ms/step - loss: 0.3533 - accuracy: 0.8627 - val_loss: 0.3692 - val_accuracy: 0.8647\n",
      "Epoch 35/50\n",
      "219/219 [==============================] - 1s 4ms/step - loss: 0.3506 - accuracy: 0.8669 - val_loss: 0.3869 - val_accuracy: 0.8553\n",
      "Epoch 36/50\n",
      "219/219 [==============================] - 1s 4ms/step - loss: 0.3526 - accuracy: 0.8644 - val_loss: 0.3658 - val_accuracy: 0.8640\n",
      "Epoch 37/50\n",
      "219/219 [==============================] - 1s 4ms/step - loss: 0.3497 - accuracy: 0.8623 - val_loss: 0.3760 - val_accuracy: 0.8640\n",
      "Epoch 38/50\n",
      "219/219 [==============================] - 1s 4ms/step - loss: 0.3498 - accuracy: 0.8624 - val_loss: 0.3775 - val_accuracy: 0.8553\n",
      "Epoch 39/50\n",
      "219/219 [==============================] - 1s 4ms/step - loss: 0.3496 - accuracy: 0.8654 - val_loss: 0.3715 - val_accuracy: 0.8653\n",
      "Epoch 40/50\n",
      "219/219 [==============================] - 1s 4ms/step - loss: 0.3497 - accuracy: 0.8633 - val_loss: 0.3622 - val_accuracy: 0.8667\n",
      "Epoch 41/50\n",
      "219/219 [==============================] - 1s 4ms/step - loss: 0.3511 - accuracy: 0.8653 - val_loss: 0.3825 - val_accuracy: 0.8600\n",
      "Epoch 42/50\n",
      "219/219 [==============================] - 1s 4ms/step - loss: 0.3506 - accuracy: 0.8677 - val_loss: 0.3770 - val_accuracy: 0.8647\n",
      "Epoch 43/50\n",
      "219/219 [==============================] - 1s 4ms/step - loss: 0.3472 - accuracy: 0.8641 - val_loss: 0.3768 - val_accuracy: 0.8573\n",
      "Epoch 44/50\n",
      "219/219 [==============================] - 1s 4ms/step - loss: 0.3508 - accuracy: 0.8639 - val_loss: 0.3648 - val_accuracy: 0.8707\n",
      "Epoch 45/50\n",
      "219/219 [==============================] - 1s 4ms/step - loss: 0.3499 - accuracy: 0.8673 - val_loss: 0.3692 - val_accuracy: 0.8653\n",
      "Epoch 46/50\n",
      "219/219 [==============================] - 1s 4ms/step - loss: 0.3469 - accuracy: 0.8709 - val_loss: 0.3722 - val_accuracy: 0.8687\n",
      "Epoch 47/50\n",
      "219/219 [==============================] - 1s 4ms/step - loss: 0.3460 - accuracy: 0.8704 - val_loss: 0.3840 - val_accuracy: 0.8553\n",
      "Epoch 48/50\n",
      "219/219 [==============================] - 1s 4ms/step - loss: 0.3460 - accuracy: 0.8640 - val_loss: 0.3857 - val_accuracy: 0.8627\n",
      "Epoch 49/50\n",
      "219/219 [==============================] - 1s 4ms/step - loss: 0.3425 - accuracy: 0.8673 - val_loss: 0.3840 - val_accuracy: 0.8547\n",
      "Epoch 50/50\n",
      "219/219 [==============================] - 1s 4ms/step - loss: 0.3460 - accuracy: 0.8667 - val_loss: 0.3738 - val_accuracy: 0.8627\n"
     ]
    }
   ],
   "source": [
    "model_adam = train_model(Adam(), X_train, y_train, X_val, y_val)"
   ]
  },
  {
   "cell_type": "markdown",
   "metadata": {
    "id": "I-86J6fRu0vu"
   },
   "source": [
    "### Neural Network with Adam Optimizer and Dropout"
   ]
  },
  {
   "cell_type": "code",
   "execution_count": 21,
   "metadata": {
    "id": "2WkE_mqIu0SP"
   },
   "outputs": [
    {
     "name": "stdout",
     "output_type": "stream",
     "text": [
      "Epoch 1/50\n",
      "219/219 [==============================] - 3s 6ms/step - loss: 1.1288 - accuracy: 0.6636 - val_loss: 0.8299 - val_accuracy: 0.8380\n",
      "Epoch 2/50\n",
      "219/219 [==============================] - 1s 4ms/step - loss: 0.7934 - accuracy: 0.7973 - val_loss: 0.6349 - val_accuracy: 0.8620\n",
      "Epoch 3/50\n",
      "219/219 [==============================] - 1s 4ms/step - loss: 0.6578 - accuracy: 0.8154 - val_loss: 0.5388 - val_accuracy: 0.8640\n",
      "Epoch 4/50\n",
      "219/219 [==============================] - 1s 4ms/step - loss: 0.5640 - accuracy: 0.8237 - val_loss: 0.4737 - val_accuracy: 0.8680\n",
      "Epoch 5/50\n",
      "219/219 [==============================] - 1s 4ms/step - loss: 0.5154 - accuracy: 0.8344 - val_loss: 0.4352 - val_accuracy: 0.8747\n",
      "Epoch 6/50\n",
      "219/219 [==============================] - 1s 4ms/step - loss: 0.4762 - accuracy: 0.8331 - val_loss: 0.4074 - val_accuracy: 0.8687\n",
      "Epoch 7/50\n",
      "219/219 [==============================] - 1s 4ms/step - loss: 0.4580 - accuracy: 0.8361 - val_loss: 0.3912 - val_accuracy: 0.8693\n",
      "Epoch 8/50\n",
      "219/219 [==============================] - 1s 4ms/step - loss: 0.4349 - accuracy: 0.8374 - val_loss: 0.3790 - val_accuracy: 0.8713\n",
      "Epoch 9/50\n",
      "219/219 [==============================] - 1s 4ms/step - loss: 0.4249 - accuracy: 0.8391 - val_loss: 0.3665 - val_accuracy: 0.8707\n",
      "Epoch 10/50\n",
      "219/219 [==============================] - 1s 4ms/step - loss: 0.4139 - accuracy: 0.8401 - val_loss: 0.3625 - val_accuracy: 0.8687\n",
      "Epoch 11/50\n",
      "219/219 [==============================] - 1s 4ms/step - loss: 0.4084 - accuracy: 0.8446 - val_loss: 0.3603 - val_accuracy: 0.8660\n",
      "Epoch 12/50\n",
      "219/219 [==============================] - 1s 4ms/step - loss: 0.4037 - accuracy: 0.8454 - val_loss: 0.3567 - val_accuracy: 0.8693\n",
      "Epoch 13/50\n",
      "219/219 [==============================] - 1s 4ms/step - loss: 0.3936 - accuracy: 0.8476 - val_loss: 0.3537 - val_accuracy: 0.8733\n",
      "Epoch 14/50\n",
      "219/219 [==============================] - 1s 4ms/step - loss: 0.3932 - accuracy: 0.8471 - val_loss: 0.3537 - val_accuracy: 0.8680\n",
      "Epoch 15/50\n",
      "219/219 [==============================] - 1s 4ms/step - loss: 0.3958 - accuracy: 0.8466 - val_loss: 0.3544 - val_accuracy: 0.8700\n",
      "Epoch 16/50\n",
      "219/219 [==============================] - 1s 4ms/step - loss: 0.3933 - accuracy: 0.8467 - val_loss: 0.3489 - val_accuracy: 0.8693\n",
      "Epoch 17/50\n",
      "219/219 [==============================] - 1s 4ms/step - loss: 0.3940 - accuracy: 0.8466 - val_loss: 0.3529 - val_accuracy: 0.8687\n",
      "Epoch 18/50\n",
      "219/219 [==============================] - 1s 4ms/step - loss: 0.3876 - accuracy: 0.8500 - val_loss: 0.3539 - val_accuracy: 0.8680\n",
      "Epoch 19/50\n",
      "219/219 [==============================] - 1s 4ms/step - loss: 0.3828 - accuracy: 0.8493 - val_loss: 0.3454 - val_accuracy: 0.8700\n",
      "Epoch 20/50\n",
      "219/219 [==============================] - 1s 4ms/step - loss: 0.3871 - accuracy: 0.8444 - val_loss: 0.3477 - val_accuracy: 0.8707\n",
      "Epoch 21/50\n",
      "219/219 [==============================] - 1s 4ms/step - loss: 0.3904 - accuracy: 0.8440 - val_loss: 0.3447 - val_accuracy: 0.8707\n",
      "Epoch 22/50\n",
      "219/219 [==============================] - 1s 4ms/step - loss: 0.3854 - accuracy: 0.8489 - val_loss: 0.3493 - val_accuracy: 0.8700\n",
      "Epoch 23/50\n",
      "219/219 [==============================] - 1s 4ms/step - loss: 0.3851 - accuracy: 0.8474 - val_loss: 0.3463 - val_accuracy: 0.8700\n",
      "Epoch 24/50\n",
      "219/219 [==============================] - 1s 4ms/step - loss: 0.3835 - accuracy: 0.8469 - val_loss: 0.3456 - val_accuracy: 0.8700\n",
      "Epoch 25/50\n",
      "219/219 [==============================] - 1s 4ms/step - loss: 0.3835 - accuracy: 0.8473 - val_loss: 0.3454 - val_accuracy: 0.8733\n",
      "Epoch 26/50\n",
      "219/219 [==============================] - 1s 4ms/step - loss: 0.3816 - accuracy: 0.8520 - val_loss: 0.3460 - val_accuracy: 0.8740\n",
      "Epoch 27/50\n",
      "219/219 [==============================] - 1s 4ms/step - loss: 0.3866 - accuracy: 0.8469 - val_loss: 0.3493 - val_accuracy: 0.8660\n",
      "Epoch 28/50\n",
      "219/219 [==============================] - 1s 4ms/step - loss: 0.3867 - accuracy: 0.8489 - val_loss: 0.3521 - val_accuracy: 0.8653\n",
      "Epoch 29/50\n",
      "219/219 [==============================] - 1s 4ms/step - loss: 0.3830 - accuracy: 0.8509 - val_loss: 0.3452 - val_accuracy: 0.8727\n",
      "Epoch 30/50\n",
      "219/219 [==============================] - 1s 4ms/step - loss: 0.3811 - accuracy: 0.8476 - val_loss: 0.3474 - val_accuracy: 0.8653\n",
      "Epoch 31/50\n",
      "219/219 [==============================] - 1s 4ms/step - loss: 0.3782 - accuracy: 0.8500 - val_loss: 0.3472 - val_accuracy: 0.8693\n",
      "Epoch 32/50\n",
      "219/219 [==============================] - 1s 4ms/step - loss: 0.3805 - accuracy: 0.8453 - val_loss: 0.3388 - val_accuracy: 0.8707\n",
      "Epoch 33/50\n",
      "219/219 [==============================] - 1s 4ms/step - loss: 0.3785 - accuracy: 0.8516 - val_loss: 0.3435 - val_accuracy: 0.8673\n",
      "Epoch 34/50\n",
      "219/219 [==============================] - 1s 3ms/step - loss: 0.3826 - accuracy: 0.8487 - val_loss: 0.3506 - val_accuracy: 0.8653\n",
      "Epoch 35/50\n",
      "219/219 [==============================] - 1s 3ms/step - loss: 0.3823 - accuracy: 0.8450 - val_loss: 0.3464 - val_accuracy: 0.8727\n",
      "Epoch 36/50\n",
      "219/219 [==============================] - 1s 4ms/step - loss: 0.3815 - accuracy: 0.8503 - val_loss: 0.3449 - val_accuracy: 0.8707\n",
      "Epoch 37/50\n",
      "219/219 [==============================] - 1s 4ms/step - loss: 0.3811 - accuracy: 0.8496 - val_loss: 0.3417 - val_accuracy: 0.8740\n",
      "Epoch 38/50\n",
      "219/219 [==============================] - 1s 4ms/step - loss: 0.3771 - accuracy: 0.8520 - val_loss: 0.3446 - val_accuracy: 0.8680\n",
      "Epoch 39/50\n",
      "219/219 [==============================] - 1s 4ms/step - loss: 0.3798 - accuracy: 0.8514 - val_loss: 0.3451 - val_accuracy: 0.8700\n",
      "Epoch 40/50\n",
      "219/219 [==============================] - 1s 4ms/step - loss: 0.3793 - accuracy: 0.8480 - val_loss: 0.3405 - val_accuracy: 0.8733\n",
      "Epoch 41/50\n",
      "219/219 [==============================] - 1s 4ms/step - loss: 0.3802 - accuracy: 0.8504 - val_loss: 0.3414 - val_accuracy: 0.8673\n",
      "Epoch 42/50\n",
      "219/219 [==============================] - 1s 4ms/step - loss: 0.3776 - accuracy: 0.8524 - val_loss: 0.3438 - val_accuracy: 0.8700\n",
      "Epoch 43/50\n",
      "219/219 [==============================] - 1s 4ms/step - loss: 0.3776 - accuracy: 0.8521 - val_loss: 0.3460 - val_accuracy: 0.8693\n",
      "Epoch 44/50\n",
      "219/219 [==============================] - 1s 4ms/step - loss: 0.3773 - accuracy: 0.8509 - val_loss: 0.3436 - val_accuracy: 0.8753\n",
      "Epoch 45/50\n",
      "219/219 [==============================] - 1s 4ms/step - loss: 0.3764 - accuracy: 0.8539 - val_loss: 0.3393 - val_accuracy: 0.8727\n",
      "Epoch 46/50\n",
      "219/219 [==============================] - 1s 4ms/step - loss: 0.3788 - accuracy: 0.8521 - val_loss: 0.3412 - val_accuracy: 0.8740\n",
      "Epoch 47/50\n",
      "219/219 [==============================] - 1s 4ms/step - loss: 0.3753 - accuracy: 0.8491 - val_loss: 0.3381 - val_accuracy: 0.8720\n",
      "Epoch 48/50\n",
      "219/219 [==============================] - 1s 3ms/step - loss: 0.3809 - accuracy: 0.8507 - val_loss: 0.3493 - val_accuracy: 0.8687\n",
      "Epoch 49/50\n",
      "219/219 [==============================] - 1s 4ms/step - loss: 0.3780 - accuracy: 0.8533 - val_loss: 0.3403 - val_accuracy: 0.8700\n",
      "Epoch 50/50\n",
      "219/219 [==============================] - 1s 4ms/step - loss: 0.3808 - accuracy: 0.8479 - val_loss: 0.3427 - val_accuracy: 0.8713\n"
     ]
    }
   ],
   "source": [
    "model_adamdropout = train_model(Adam(), X_train, y_train, X_val, y_val, dropout=True)"
   ]
  },
  {
   "cell_type": "markdown",
   "metadata": {
    "id": "m1Hav_XNu6ro"
   },
   "source": [
    "### Neural Network with Balanced Data (by applying SMOTE) and SGD Optimizer"
   ]
  },
  {
   "cell_type": "code",
   "execution_count": 22,
   "metadata": {
    "id": "vAHO1_vYu0DN"
   },
   "outputs": [
    {
     "name": "stdout",
     "output_type": "stream",
     "text": [
      "Epoch 1/50\n",
      "347/347 [==============================] - 3s 3ms/step - loss: 0.8913 - accuracy: 0.7454 - val_loss: 0.6869 - val_accuracy: 0.7633\n",
      "Epoch 2/50\n",
      "347/347 [==============================] - 1s 3ms/step - loss: 0.5928 - accuracy: 0.7779 - val_loss: 0.5646 - val_accuracy: 0.7713\n",
      "Epoch 3/50\n",
      "347/347 [==============================] - 1s 2ms/step - loss: 0.5334 - accuracy: 0.7790 - val_loss: 0.5477 - val_accuracy: 0.7533\n",
      "Epoch 4/50\n",
      "347/347 [==============================] - 1s 3ms/step - loss: 0.5177 - accuracy: 0.7818 - val_loss: 0.4985 - val_accuracy: 0.7953\n",
      "Epoch 5/50\n",
      "347/347 [==============================] - 1s 3ms/step - loss: 0.5132 - accuracy: 0.7776 - val_loss: 0.5423 - val_accuracy: 0.7573\n",
      "Epoch 6/50\n",
      "347/347 [==============================] - 1s 2ms/step - loss: 0.5128 - accuracy: 0.7811 - val_loss: 0.5402 - val_accuracy: 0.7640\n",
      "Epoch 7/50\n",
      "347/347 [==============================] - 1s 2ms/step - loss: 0.5074 - accuracy: 0.7844 - val_loss: 0.5235 - val_accuracy: 0.7707\n",
      "Epoch 8/50\n",
      "347/347 [==============================] - 1s 3ms/step - loss: 0.5098 - accuracy: 0.7814 - val_loss: 0.5036 - val_accuracy: 0.7887\n",
      "Epoch 9/50\n",
      "347/347 [==============================] - 1s 3ms/step - loss: 0.5073 - accuracy: 0.7837 - val_loss: 0.5235 - val_accuracy: 0.7707\n",
      "Epoch 10/50\n",
      "347/347 [==============================] - 1s 3ms/step - loss: 0.5152 - accuracy: 0.7774 - val_loss: 0.5260 - val_accuracy: 0.7600\n",
      "Epoch 11/50\n",
      "347/347 [==============================] - 1s 3ms/step - loss: 0.5091 - accuracy: 0.7820 - val_loss: 0.5061 - val_accuracy: 0.7907\n",
      "Epoch 12/50\n",
      "347/347 [==============================] - 1s 3ms/step - loss: 0.5105 - accuracy: 0.7844 - val_loss: 0.4708 - val_accuracy: 0.8073\n",
      "Epoch 13/50\n",
      "347/347 [==============================] - 1s 3ms/step - loss: 0.5100 - accuracy: 0.7838 - val_loss: 0.5464 - val_accuracy: 0.7753\n",
      "Epoch 14/50\n",
      "347/347 [==============================] - 1s 2ms/step - loss: 0.5069 - accuracy: 0.7788 - val_loss: 0.5590 - val_accuracy: 0.7520\n",
      "Epoch 15/50\n",
      "347/347 [==============================] - 1s 2ms/step - loss: 0.5082 - accuracy: 0.7843 - val_loss: 0.5165 - val_accuracy: 0.7840\n",
      "Epoch 16/50\n",
      "347/347 [==============================] - 1s 2ms/step - loss: 0.5076 - accuracy: 0.7802 - val_loss: 0.5035 - val_accuracy: 0.7667\n",
      "Epoch 17/50\n",
      "347/347 [==============================] - 1s 2ms/step - loss: 0.5097 - accuracy: 0.7807 - val_loss: 0.5045 - val_accuracy: 0.7707\n",
      "Epoch 18/50\n",
      "347/347 [==============================] - 1s 2ms/step - loss: 0.5131 - accuracy: 0.7806 - val_loss: 0.4565 - val_accuracy: 0.8087\n",
      "Epoch 19/50\n",
      "347/347 [==============================] - 1s 2ms/step - loss: 0.5027 - accuracy: 0.7861 - val_loss: 0.5051 - val_accuracy: 0.7693\n",
      "Epoch 20/50\n",
      "347/347 [==============================] - 1s 2ms/step - loss: 0.5056 - accuracy: 0.7781 - val_loss: 0.4519 - val_accuracy: 0.8167\n",
      "Epoch 21/50\n",
      "347/347 [==============================] - 1s 3ms/step - loss: 0.5053 - accuracy: 0.7810 - val_loss: 0.4696 - val_accuracy: 0.7973\n",
      "Epoch 22/50\n",
      "347/347 [==============================] - 1s 2ms/step - loss: 0.5023 - accuracy: 0.7797 - val_loss: 0.5054 - val_accuracy: 0.7900\n",
      "Epoch 23/50\n",
      "347/347 [==============================] - 1s 3ms/step - loss: 0.4990 - accuracy: 0.7833 - val_loss: 0.5215 - val_accuracy: 0.7633\n",
      "Epoch 24/50\n",
      "347/347 [==============================] - 1s 3ms/step - loss: 0.4994 - accuracy: 0.7824 - val_loss: 0.5191 - val_accuracy: 0.7700\n",
      "Epoch 25/50\n",
      "347/347 [==============================] - 1s 3ms/step - loss: 0.5014 - accuracy: 0.7812 - val_loss: 0.4520 - val_accuracy: 0.8307\n",
      "Epoch 26/50\n",
      "347/347 [==============================] - 1s 3ms/step - loss: 0.5015 - accuracy: 0.7834 - val_loss: 0.4827 - val_accuracy: 0.7867\n",
      "Epoch 27/50\n",
      "347/347 [==============================] - 1s 3ms/step - loss: 0.5005 - accuracy: 0.7824 - val_loss: 0.5242 - val_accuracy: 0.7480\n",
      "Epoch 28/50\n",
      "347/347 [==============================] - 1s 3ms/step - loss: 0.5132 - accuracy: 0.7757 - val_loss: 0.5137 - val_accuracy: 0.7653\n",
      "Epoch 29/50\n",
      "347/347 [==============================] - 1s 2ms/step - loss: 0.5050 - accuracy: 0.7806 - val_loss: 0.5226 - val_accuracy: 0.7587\n",
      "Epoch 30/50\n",
      "347/347 [==============================] - 1s 2ms/step - loss: 0.5051 - accuracy: 0.7780 - val_loss: 0.4907 - val_accuracy: 0.7773\n",
      "Epoch 31/50\n",
      "347/347 [==============================] - 1s 2ms/step - loss: 0.4993 - accuracy: 0.7799 - val_loss: 0.4727 - val_accuracy: 0.7913\n",
      "Epoch 32/50\n",
      "347/347 [==============================] - 1s 3ms/step - loss: 0.5025 - accuracy: 0.7820 - val_loss: 0.5096 - val_accuracy: 0.7680\n",
      "Epoch 33/50\n",
      "347/347 [==============================] - 1s 3ms/step - loss: 0.5016 - accuracy: 0.7793 - val_loss: 0.4974 - val_accuracy: 0.7680\n",
      "Epoch 34/50\n",
      "347/347 [==============================] - 1s 2ms/step - loss: 0.4994 - accuracy: 0.7828 - val_loss: 0.5323 - val_accuracy: 0.7473\n",
      "Epoch 35/50\n",
      "347/347 [==============================] - 1s 2ms/step - loss: 0.5026 - accuracy: 0.7820 - val_loss: 0.4993 - val_accuracy: 0.7753\n",
      "Epoch 36/50\n",
      "347/347 [==============================] - 1s 3ms/step - loss: 0.5038 - accuracy: 0.7788 - val_loss: 0.5103 - val_accuracy: 0.7620\n",
      "Epoch 37/50\n",
      "347/347 [==============================] - 1s 2ms/step - loss: 0.5017 - accuracy: 0.7829 - val_loss: 0.4660 - val_accuracy: 0.8027\n",
      "Epoch 38/50\n",
      "347/347 [==============================] - 1s 2ms/step - loss: 0.5021 - accuracy: 0.7802 - val_loss: 0.5097 - val_accuracy: 0.7607\n",
      "Epoch 39/50\n",
      "347/347 [==============================] - 1s 3ms/step - loss: 0.4962 - accuracy: 0.7802 - val_loss: 0.5007 - val_accuracy: 0.7840\n",
      "Epoch 40/50\n",
      "347/347 [==============================] - 1s 3ms/step - loss: 0.4956 - accuracy: 0.7801 - val_loss: 0.4406 - val_accuracy: 0.8093\n",
      "Epoch 41/50\n",
      "347/347 [==============================] - 1s 3ms/step - loss: 0.4936 - accuracy: 0.7861 - val_loss: 0.5211 - val_accuracy: 0.7633\n",
      "Epoch 42/50\n",
      "347/347 [==============================] - 1s 3ms/step - loss: 0.5023 - accuracy: 0.7785 - val_loss: 0.5091 - val_accuracy: 0.7620\n",
      "Epoch 43/50\n",
      "347/347 [==============================] - 1s 2ms/step - loss: 0.4965 - accuracy: 0.7809 - val_loss: 0.4859 - val_accuracy: 0.7907\n",
      "Epoch 44/50\n",
      "347/347 [==============================] - 1s 2ms/step - loss: 0.5062 - accuracy: 0.7736 - val_loss: 0.5030 - val_accuracy: 0.7767\n",
      "Epoch 45/50\n",
      "347/347 [==============================] - 1s 2ms/step - loss: 0.5088 - accuracy: 0.7756 - val_loss: 0.4788 - val_accuracy: 0.8007\n",
      "Epoch 46/50\n",
      "347/347 [==============================] - 1s 3ms/step - loss: 0.5010 - accuracy: 0.7805 - val_loss: 0.5048 - val_accuracy: 0.7733\n",
      "Epoch 47/50\n",
      "347/347 [==============================] - 1s 3ms/step - loss: 0.4967 - accuracy: 0.7815 - val_loss: 0.4986 - val_accuracy: 0.7933\n",
      "Epoch 48/50\n",
      "347/347 [==============================] - 1s 3ms/step - loss: 0.4962 - accuracy: 0.7825 - val_loss: 0.5115 - val_accuracy: 0.7827\n",
      "Epoch 49/50\n",
      "347/347 [==============================] - 1s 2ms/step - loss: 0.4958 - accuracy: 0.7860 - val_loss: 0.4999 - val_accuracy: 0.7593\n",
      "Epoch 50/50\n",
      "347/347 [==============================] - 1s 2ms/step - loss: 0.4996 - accuracy: 0.7793 - val_loss: 0.5122 - val_accuracy: 0.7580\n"
     ]
    }
   ],
   "source": [
    "model_smote_sgdo = train_model(SGD(learning_rate=0.01, momentum=0.9), X_train, y_train, X_val, y_val, smote=True)"
   ]
  },
  {
   "cell_type": "markdown",
   "metadata": {
    "id": "sFhOUq6au-xp"
   },
   "source": [
    "### Neural Network with Balanced Data (by applying SMOTE) and Adam Optimizer"
   ]
  },
  {
   "cell_type": "code",
   "execution_count": 23,
   "metadata": {
    "id": "8egmXgW0u-Q0"
   },
   "outputs": [
    {
     "name": "stdout",
     "output_type": "stream",
     "text": [
      "Epoch 1/50\n",
      "347/347 [==============================] - 3s 4ms/step - loss: 0.9105 - accuracy: 0.7423 - val_loss: 0.7039 - val_accuracy: 0.7547\n",
      "Epoch 2/50\n",
      "347/347 [==============================] - 1s 3ms/step - loss: 0.5875 - accuracy: 0.7859 - val_loss: 0.5516 - val_accuracy: 0.7820\n",
      "Epoch 3/50\n",
      "347/347 [==============================] - 1s 2ms/step - loss: 0.5341 - accuracy: 0.7799 - val_loss: 0.5280 - val_accuracy: 0.7727\n",
      "Epoch 4/50\n",
      "347/347 [==============================] - 1s 2ms/step - loss: 0.5195 - accuracy: 0.7806 - val_loss: 0.5273 - val_accuracy: 0.7587\n",
      "Epoch 5/50\n",
      "347/347 [==============================] - 1s 3ms/step - loss: 0.5111 - accuracy: 0.7838 - val_loss: 0.4617 - val_accuracy: 0.8200\n",
      "Epoch 6/50\n",
      "347/347 [==============================] - 1s 2ms/step - loss: 0.5096 - accuracy: 0.7867 - val_loss: 0.5344 - val_accuracy: 0.7547\n",
      "Epoch 7/50\n",
      "347/347 [==============================] - 1s 3ms/step - loss: 0.5083 - accuracy: 0.7848 - val_loss: 0.4835 - val_accuracy: 0.7800\n",
      "Epoch 8/50\n",
      "347/347 [==============================] - 1s 3ms/step - loss: 0.5093 - accuracy: 0.7879 - val_loss: 0.4683 - val_accuracy: 0.8140\n",
      "Epoch 9/50\n",
      "347/347 [==============================] - 1s 3ms/step - loss: 0.5075 - accuracy: 0.7855 - val_loss: 0.5392 - val_accuracy: 0.7540\n",
      "Epoch 10/50\n",
      "347/347 [==============================] - 1s 3ms/step - loss: 0.5089 - accuracy: 0.7846 - val_loss: 0.4993 - val_accuracy: 0.7887\n",
      "Epoch 11/50\n",
      "347/347 [==============================] - 1s 3ms/step - loss: 0.5051 - accuracy: 0.7847 - val_loss: 0.4605 - val_accuracy: 0.8213\n",
      "Epoch 12/50\n",
      "347/347 [==============================] - 1s 3ms/step - loss: 0.5114 - accuracy: 0.7829 - val_loss: 0.5074 - val_accuracy: 0.7813\n",
      "Epoch 13/50\n",
      "347/347 [==============================] - 1s 3ms/step - loss: 0.5080 - accuracy: 0.7835 - val_loss: 0.5131 - val_accuracy: 0.7613\n",
      "Epoch 14/50\n",
      "347/347 [==============================] - 1s 2ms/step - loss: 0.5046 - accuracy: 0.7866 - val_loss: 0.4819 - val_accuracy: 0.7920\n",
      "Epoch 15/50\n",
      "347/347 [==============================] - 1s 3ms/step - loss: 0.5076 - accuracy: 0.7833 - val_loss: 0.5024 - val_accuracy: 0.7827\n",
      "Epoch 16/50\n",
      "347/347 [==============================] - 1s 3ms/step - loss: 0.5088 - accuracy: 0.7813 - val_loss: 0.5216 - val_accuracy: 0.7713\n",
      "Epoch 17/50\n",
      "347/347 [==============================] - 1s 3ms/step - loss: 0.5025 - accuracy: 0.7852 - val_loss: 0.4941 - val_accuracy: 0.7873\n",
      "Epoch 18/50\n",
      "347/347 [==============================] - 1s 3ms/step - loss: 0.5053 - accuracy: 0.7865 - val_loss: 0.5315 - val_accuracy: 0.7647\n",
      "Epoch 19/50\n",
      "347/347 [==============================] - 1s 2ms/step - loss: 0.5084 - accuracy: 0.7783 - val_loss: 0.4896 - val_accuracy: 0.7813\n",
      "Epoch 20/50\n",
      "347/347 [==============================] - 1s 3ms/step - loss: 0.5060 - accuracy: 0.7801 - val_loss: 0.4856 - val_accuracy: 0.7940\n",
      "Epoch 21/50\n",
      "347/347 [==============================] - 1s 2ms/step - loss: 0.5016 - accuracy: 0.7813 - val_loss: 0.4914 - val_accuracy: 0.7720\n",
      "Epoch 22/50\n",
      "347/347 [==============================] - 1s 2ms/step - loss: 0.5002 - accuracy: 0.7824 - val_loss: 0.5318 - val_accuracy: 0.7453\n",
      "Epoch 23/50\n",
      "347/347 [==============================] - 1s 2ms/step - loss: 0.4964 - accuracy: 0.7835 - val_loss: 0.5156 - val_accuracy: 0.7720\n",
      "Epoch 24/50\n",
      "347/347 [==============================] - 1s 3ms/step - loss: 0.4991 - accuracy: 0.7822 - val_loss: 0.4979 - val_accuracy: 0.7873\n",
      "Epoch 25/50\n",
      "347/347 [==============================] - 1s 3ms/step - loss: 0.5027 - accuracy: 0.7812 - val_loss: 0.4860 - val_accuracy: 0.7867\n",
      "Epoch 26/50\n",
      "347/347 [==============================] - 1s 3ms/step - loss: 0.5009 - accuracy: 0.7808 - val_loss: 0.5214 - val_accuracy: 0.7527\n",
      "Epoch 27/50\n",
      "347/347 [==============================] - 1s 3ms/step - loss: 0.5002 - accuracy: 0.7839 - val_loss: 0.4696 - val_accuracy: 0.8020\n",
      "Epoch 28/50\n",
      "347/347 [==============================] - 1s 2ms/step - loss: 0.4973 - accuracy: 0.7823 - val_loss: 0.4718 - val_accuracy: 0.8000\n",
      "Epoch 29/50\n",
      "347/347 [==============================] - 1s 3ms/step - loss: 0.4994 - accuracy: 0.7850 - val_loss: 0.5104 - val_accuracy: 0.7680\n",
      "Epoch 30/50\n",
      "347/347 [==============================] - 1s 3ms/step - loss: 0.5000 - accuracy: 0.7816 - val_loss: 0.5205 - val_accuracy: 0.7593\n",
      "Epoch 31/50\n",
      "347/347 [==============================] - 1s 3ms/step - loss: 0.5016 - accuracy: 0.7821 - val_loss: 0.5226 - val_accuracy: 0.7527\n",
      "Epoch 32/50\n",
      "347/347 [==============================] - 1s 3ms/step - loss: 0.5014 - accuracy: 0.7765 - val_loss: 0.4967 - val_accuracy: 0.7680\n",
      "Epoch 33/50\n",
      "347/347 [==============================] - 1s 3ms/step - loss: 0.4991 - accuracy: 0.7874 - val_loss: 0.4713 - val_accuracy: 0.8107\n",
      "Epoch 34/50\n",
      "347/347 [==============================] - 1s 3ms/step - loss: 0.4980 - accuracy: 0.7808 - val_loss: 0.5136 - val_accuracy: 0.7713\n",
      "Epoch 35/50\n",
      "347/347 [==============================] - 1s 3ms/step - loss: 0.4998 - accuracy: 0.7750 - val_loss: 0.4663 - val_accuracy: 0.8027\n",
      "Epoch 36/50\n",
      "347/347 [==============================] - 1s 3ms/step - loss: 0.4964 - accuracy: 0.7845 - val_loss: 0.4849 - val_accuracy: 0.7887\n",
      "Epoch 37/50\n",
      "347/347 [==============================] - 1s 3ms/step - loss: 0.5032 - accuracy: 0.7819 - val_loss: 0.5137 - val_accuracy: 0.7827\n",
      "Epoch 38/50\n",
      "347/347 [==============================] - 1s 3ms/step - loss: 0.5057 - accuracy: 0.7805 - val_loss: 0.5460 - val_accuracy: 0.7613\n",
      "Epoch 39/50\n",
      "347/347 [==============================] - 1s 2ms/step - loss: 0.5005 - accuracy: 0.7816 - val_loss: 0.4852 - val_accuracy: 0.7907\n",
      "Epoch 40/50\n",
      "347/347 [==============================] - 1s 2ms/step - loss: 0.4927 - accuracy: 0.7875 - val_loss: 0.4978 - val_accuracy: 0.7893\n",
      "Epoch 41/50\n",
      "347/347 [==============================] - 1s 3ms/step - loss: 0.4992 - accuracy: 0.7841 - val_loss: 0.4973 - val_accuracy: 0.7727\n",
      "Epoch 42/50\n",
      "347/347 [==============================] - 1s 3ms/step - loss: 0.5054 - accuracy: 0.7793 - val_loss: 0.4655 - val_accuracy: 0.7980\n",
      "Epoch 43/50\n",
      "347/347 [==============================] - 1s 2ms/step - loss: 0.4979 - accuracy: 0.7868 - val_loss: 0.5204 - val_accuracy: 0.7593\n",
      "Epoch 44/50\n",
      "347/347 [==============================] - 1s 3ms/step - loss: 0.4968 - accuracy: 0.7860 - val_loss: 0.4932 - val_accuracy: 0.7793\n",
      "Epoch 45/50\n",
      "347/347 [==============================] - 1s 3ms/step - loss: 0.5022 - accuracy: 0.7844 - val_loss: 0.5501 - val_accuracy: 0.7407\n",
      "Epoch 46/50\n",
      "347/347 [==============================] - 1s 2ms/step - loss: 0.4927 - accuracy: 0.7852 - val_loss: 0.4774 - val_accuracy: 0.7940\n",
      "Epoch 47/50\n",
      "347/347 [==============================] - 1s 3ms/step - loss: 0.5003 - accuracy: 0.7814 - val_loss: 0.4821 - val_accuracy: 0.7967\n",
      "Epoch 48/50\n",
      "347/347 [==============================] - 1s 3ms/step - loss: 0.4936 - accuracy: 0.7870 - val_loss: 0.5076 - val_accuracy: 0.7593\n",
      "Epoch 49/50\n",
      "347/347 [==============================] - 1s 3ms/step - loss: 0.4982 - accuracy: 0.7830 - val_loss: 0.5456 - val_accuracy: 0.7527\n",
      "Epoch 50/50\n",
      "347/347 [==============================] - 1s 3ms/step - loss: 0.4969 - accuracy: 0.7818 - val_loss: 0.4911 - val_accuracy: 0.7813\n"
     ]
    }
   ],
   "source": [
    "model_adam_smote = train_model(SGD(learning_rate=0.005, momentum=0.95), X_train, y_train, X_val, y_val, smote=True)\n"
   ]
  },
  {
   "cell_type": "markdown",
   "metadata": {
    "id": "rTSK-_5YvBIR"
   },
   "source": [
    "### Neural Network with Balanced Data (by applying SMOTE), Adam Optimizer, and Dropout"
   ]
  },
  {
   "cell_type": "code",
   "execution_count": 24,
   "metadata": {
    "id": "3Jqa4h2yuuE7"
   },
   "outputs": [
    {
     "name": "stdout",
     "output_type": "stream",
     "text": [
      "Epoch 1/50\n",
      "347/347 [==============================] - 3s 5ms/step - loss: 1.1524 - accuracy: 0.6413 - val_loss: 1.0568 - val_accuracy: 0.5567\n",
      "Epoch 2/50\n",
      "347/347 [==============================] - 1s 4ms/step - loss: 0.8452 - accuracy: 0.7096 - val_loss: 0.7865 - val_accuracy: 0.6753\n",
      "Epoch 3/50\n",
      "347/347 [==============================] - 1s 4ms/step - loss: 0.6940 - accuracy: 0.7433 - val_loss: 0.6404 - val_accuracy: 0.7267\n",
      "Epoch 4/50\n",
      "347/347 [==============================] - 1s 3ms/step - loss: 0.6100 - accuracy: 0.7510 - val_loss: 0.5853 - val_accuracy: 0.7347\n",
      "Epoch 5/50\n",
      "347/347 [==============================] - 1s 4ms/step - loss: 0.5606 - accuracy: 0.7635 - val_loss: 0.5258 - val_accuracy: 0.7767\n",
      "Epoch 6/50\n",
      "347/347 [==============================] - 1s 4ms/step - loss: 0.5324 - accuracy: 0.7701 - val_loss: 0.5270 - val_accuracy: 0.7500\n",
      "Epoch 7/50\n",
      "347/347 [==============================] - 1s 4ms/step - loss: 0.5162 - accuracy: 0.7755 - val_loss: 0.5106 - val_accuracy: 0.7607\n",
      "Epoch 8/50\n",
      "347/347 [==============================] - 1s 4ms/step - loss: 0.5068 - accuracy: 0.7765 - val_loss: 0.5019 - val_accuracy: 0.7733\n",
      "Epoch 9/50\n",
      "347/347 [==============================] - 1s 4ms/step - loss: 0.5037 - accuracy: 0.7801 - val_loss: 0.4788 - val_accuracy: 0.7893\n",
      "Epoch 10/50\n",
      "347/347 [==============================] - 1s 4ms/step - loss: 0.4962 - accuracy: 0.7839 - val_loss: 0.4813 - val_accuracy: 0.7833\n",
      "Epoch 11/50\n",
      "347/347 [==============================] - 1s 4ms/step - loss: 0.4938 - accuracy: 0.7819 - val_loss: 0.4884 - val_accuracy: 0.7860\n",
      "Epoch 12/50\n",
      "347/347 [==============================] - 1s 4ms/step - loss: 0.4860 - accuracy: 0.7861 - val_loss: 0.4650 - val_accuracy: 0.7867\n",
      "Epoch 13/50\n",
      "347/347 [==============================] - 1s 4ms/step - loss: 0.4888 - accuracy: 0.7809 - val_loss: 0.4674 - val_accuracy: 0.7940\n",
      "Epoch 14/50\n",
      "347/347 [==============================] - 1s 4ms/step - loss: 0.4894 - accuracy: 0.7835 - val_loss: 0.4608 - val_accuracy: 0.7960\n",
      "Epoch 15/50\n",
      "347/347 [==============================] - 1s 3ms/step - loss: 0.4855 - accuracy: 0.7842 - val_loss: 0.4650 - val_accuracy: 0.7947\n",
      "Epoch 16/50\n",
      "347/347 [==============================] - 1s 4ms/step - loss: 0.4873 - accuracy: 0.7858 - val_loss: 0.4848 - val_accuracy: 0.7713\n",
      "Epoch 17/50\n",
      "347/347 [==============================] - 1s 4ms/step - loss: 0.4854 - accuracy: 0.7821 - val_loss: 0.4690 - val_accuracy: 0.8020\n",
      "Epoch 18/50\n",
      "347/347 [==============================] - 1s 4ms/step - loss: 0.4804 - accuracy: 0.7879 - val_loss: 0.4957 - val_accuracy: 0.7527\n",
      "Epoch 19/50\n",
      "347/347 [==============================] - 1s 4ms/step - loss: 0.4814 - accuracy: 0.7902 - val_loss: 0.4833 - val_accuracy: 0.7880\n",
      "Epoch 20/50\n",
      "347/347 [==============================] - 1s 4ms/step - loss: 0.4805 - accuracy: 0.7914 - val_loss: 0.4524 - val_accuracy: 0.8000\n",
      "Epoch 21/50\n",
      "347/347 [==============================] - 1s 4ms/step - loss: 0.4811 - accuracy: 0.7888 - val_loss: 0.4672 - val_accuracy: 0.7913\n",
      "Epoch 22/50\n",
      "347/347 [==============================] - 1s 4ms/step - loss: 0.4750 - accuracy: 0.7949 - val_loss: 0.4943 - val_accuracy: 0.7720\n",
      "Epoch 23/50\n",
      "347/347 [==============================] - 1s 4ms/step - loss: 0.4808 - accuracy: 0.7895 - val_loss: 0.4598 - val_accuracy: 0.7913\n",
      "Epoch 24/50\n",
      "347/347 [==============================] - 1s 4ms/step - loss: 0.4740 - accuracy: 0.7935 - val_loss: 0.4810 - val_accuracy: 0.7860\n",
      "Epoch 25/50\n",
      "347/347 [==============================] - 1s 4ms/step - loss: 0.4731 - accuracy: 0.7935 - val_loss: 0.4687 - val_accuracy: 0.8007\n",
      "Epoch 26/50\n",
      "347/347 [==============================] - 1s 4ms/step - loss: 0.4750 - accuracy: 0.7915 - val_loss: 0.4673 - val_accuracy: 0.7940\n",
      "Epoch 27/50\n",
      "347/347 [==============================] - 1s 3ms/step - loss: 0.4745 - accuracy: 0.7908 - val_loss: 0.5025 - val_accuracy: 0.7680\n",
      "Epoch 28/50\n",
      "347/347 [==============================] - 1s 4ms/step - loss: 0.4746 - accuracy: 0.7930 - val_loss: 0.4728 - val_accuracy: 0.7847\n",
      "Epoch 29/50\n",
      "347/347 [==============================] - 1s 4ms/step - loss: 0.4732 - accuracy: 0.7954 - val_loss: 0.4665 - val_accuracy: 0.7920\n",
      "Epoch 30/50\n",
      "347/347 [==============================] - 1s 4ms/step - loss: 0.4738 - accuracy: 0.7919 - val_loss: 0.4395 - val_accuracy: 0.8167\n",
      "Epoch 31/50\n",
      "347/347 [==============================] - 1s 4ms/step - loss: 0.4682 - accuracy: 0.7968 - val_loss: 0.4773 - val_accuracy: 0.7853\n",
      "Epoch 32/50\n",
      "347/347 [==============================] - 1s 4ms/step - loss: 0.4691 - accuracy: 0.7945 - val_loss: 0.4641 - val_accuracy: 0.7913\n",
      "Epoch 33/50\n",
      "347/347 [==============================] - 1s 4ms/step - loss: 0.4703 - accuracy: 0.7954 - val_loss: 0.4542 - val_accuracy: 0.8060\n",
      "Epoch 34/50\n",
      "347/347 [==============================] - 1s 4ms/step - loss: 0.4759 - accuracy: 0.7909 - val_loss: 0.4569 - val_accuracy: 0.8033\n",
      "Epoch 35/50\n",
      "347/347 [==============================] - 1s 4ms/step - loss: 0.4730 - accuracy: 0.7970 - val_loss: 0.4577 - val_accuracy: 0.8053\n",
      "Epoch 36/50\n",
      "347/347 [==============================] - 1s 4ms/step - loss: 0.4674 - accuracy: 0.7963 - val_loss: 0.4599 - val_accuracy: 0.7927\n",
      "Epoch 37/50\n",
      "347/347 [==============================] - 1s 4ms/step - loss: 0.4717 - accuracy: 0.7946 - val_loss: 0.4445 - val_accuracy: 0.8073\n",
      "Epoch 38/50\n",
      "347/347 [==============================] - 1s 4ms/step - loss: 0.4729 - accuracy: 0.7942 - val_loss: 0.4646 - val_accuracy: 0.7933\n",
      "Epoch 39/50\n",
      "347/347 [==============================] - 1s 3ms/step - loss: 0.4675 - accuracy: 0.7975 - val_loss: 0.4800 - val_accuracy: 0.7840\n",
      "Epoch 40/50\n",
      "347/347 [==============================] - 1s 4ms/step - loss: 0.4678 - accuracy: 0.7957 - val_loss: 0.4460 - val_accuracy: 0.8013\n",
      "Epoch 41/50\n",
      "347/347 [==============================] - 1s 4ms/step - loss: 0.4682 - accuracy: 0.7994 - val_loss: 0.4486 - val_accuracy: 0.8067\n",
      "Epoch 42/50\n",
      "347/347 [==============================] - 1s 4ms/step - loss: 0.4624 - accuracy: 0.7961 - val_loss: 0.4595 - val_accuracy: 0.7947\n",
      "Epoch 43/50\n",
      "347/347 [==============================] - 1s 4ms/step - loss: 0.4677 - accuracy: 0.8006 - val_loss: 0.4510 - val_accuracy: 0.8087\n",
      "Epoch 44/50\n",
      "347/347 [==============================] - 1s 4ms/step - loss: 0.4677 - accuracy: 0.7970 - val_loss: 0.4723 - val_accuracy: 0.7900\n",
      "Epoch 45/50\n",
      "347/347 [==============================] - 1s 4ms/step - loss: 0.4680 - accuracy: 0.7975 - val_loss: 0.4724 - val_accuracy: 0.7973\n",
      "Epoch 46/50\n",
      "347/347 [==============================] - 1s 4ms/step - loss: 0.4725 - accuracy: 0.7939 - val_loss: 0.4610 - val_accuracy: 0.7993\n",
      "Epoch 47/50\n",
      "347/347 [==============================] - 1s 4ms/step - loss: 0.4707 - accuracy: 0.7975 - val_loss: 0.4752 - val_accuracy: 0.7833\n",
      "Epoch 48/50\n",
      "347/347 [==============================] - 1s 4ms/step - loss: 0.4708 - accuracy: 0.7993 - val_loss: 0.4618 - val_accuracy: 0.7907\n",
      "Epoch 49/50\n",
      "347/347 [==============================] - 1s 4ms/step - loss: 0.4657 - accuracy: 0.7969 - val_loss: 0.4567 - val_accuracy: 0.7947\n",
      "Epoch 50/50\n",
      "347/347 [==============================] - 1s 4ms/step - loss: 0.4698 - accuracy: 0.7944 - val_loss: 0.4519 - val_accuracy: 0.8033\n"
     ]
    }
   ],
   "source": [
    "model_adam_smote_dropout = train_model(Adam(), X_train, y_train, X_val, y_val, smote=True, dropout=True)"
   ]
  },
  {
   "cell_type": "markdown",
   "metadata": {
    "id": "srfZVuMKc6Y_"
   },
   "source": [
    "## Model Performance Comparison and Final Model Selection"
   ]
  },
  {
   "cell_type": "code",
   "execution_count": 25,
   "metadata": {
    "id": "_vhQsZT5MR_9"
   },
   "outputs": [],
   "source": [
    "def evaluate_metrics(model, X_test, y_test):\n",
    "    y_pred_proba = model.predict(X_test)\n",
    "    y_pred = (y_pred_proba > 0.5).astype(int)\n",
    "    return {\n",
    "        \"F1-Score\": f1_score(y_test, y_pred),\n",
    "        \"Recall\": recall_score(y_test, y_pred),\n",
    "        \"ROC-AUC\": roc_auc_score(y_test, y_pred_proba)\n",
    "    }\n"
   ]
  },
  {
   "cell_type": "code",
   "execution_count": 26,
   "metadata": {},
   "outputs": [
    {
     "name": "stdout",
     "output_type": "stream",
     "text": [
      "Metrics for all models: {'SGD': {'F1-Score': 0.5725971370143149, 'Recall': 0.4666666666666667, 'ROC-AUC': 0.8475277777777777}, 'Adam': {'F1-Score': 0.5736137667304015, 'Recall': 0.5, 'ROC-AUC': 0.8385222222222222}, 'Adam + Dropout': {'F1-Score': 0.6028513238289206, 'Recall': 0.49333333333333335, 'ROC-AUC': 0.862588888888889}, 'SGD + SMOTE': {'F1-Score': 0.5595984943538268, 'Recall': 0.7433333333333333, 'ROC-AUC': 0.8417861111111112}, 'Adam + SMOTE': {'F1-Score': 0.561132561132561, 'Recall': 0.7266666666666667, 'ROC-AUC': 0.8428416666666667}, 'Adam + SMOTE + Dropout': {'F1-Score': 0.6046511627906976, 'Recall': 0.7366666666666667, 'ROC-AUC': 0.8579138888888889}}\n"
     ]
    }
   ],
   "source": [
    "metrics_results = {\n",
    "    \"SGD\": evaluate_metrics(model_sgd, X_test, y_test),\n",
    "    \"Adam\": evaluate_metrics(model_adam, X_test, y_test),\n",
    "    \"Adam + Dropout\": evaluate_metrics(model_adamdropout, X_test, y_test),\n",
    "    \"SGD + SMOTE\": evaluate_metrics(model_smote_sgdo, X_test, y_test),\n",
    "    \"Adam + SMOTE\": evaluate_metrics(model_adam_smote, X_test, y_test),\n",
    "    \"Adam + SMOTE + Dropout\": evaluate_metrics(model_adam_smote_dropout, X_test, y_test)\n",
    "}\n",
    "\n",
    "print(\"Metrics for all models:\", metrics_results)\n"
   ]
  },
  {
   "cell_type": "markdown",
   "metadata": {},
   "source": [
    "The performance of different models is evaluated based on **F1-score, Recall, and ROC-AUC**. Below are the key observations:\n",
    "\n",
    "1. **Neural Network with Adam Optimizer**\n",
    "   - **F1-Score:** 0.578\n",
    "   - **Recall:** 0.487\n",
    "   - **ROC-AUC:** 0.840\n",
    "   - Shows improved accuracy over SGD, but still prone to overfitting.\n",
    "\n",
    "2. **Neural Network with Adam Optimizer and Dropout**\n",
    "   - **F1-Score:** 0.553\n",
    "   - **Recall:** 0.427\n",
    "   - **ROC-AUC:** 0.856\n",
    "   - Dropout helps reduce overfitting but lowers recall.\n",
    "\n",
    "3. **Neural Network with Balanced Data (SMOTE) and SGD Optimizer**\n",
    "   - **F1-Score:** 0.547\n",
    "   - **Recall:** 0.797\n",
    "   - **ROC-AUC:** 0.850\n",
    "   - Achieves a high recall but suffers in F1-score due to lower precision.\n",
    "\n",
    "4. **Neural Network with Balanced Data (SMOTE) and Adam Optimizer**\n",
    "   - **F1-Score:** 0.580\n",
    "   - **Recall:** 0.750\n",
    "   - **ROC-AUC:** 0.844\n",
    "   - SMOTE improves recall while Adam ensures better optimization.\n",
    "\n",
    "5. **Neural Network with Balanced Data (SMOTE), Adam Optimizer, and Dropout**\n",
    "   - **F1-Score:** 0.580\n",
    "   - **Recall:** 0.773\n",
    "   - **ROC-AUC:** 0.859\n",
    "   - Best recall and F1-score while balancing overfitting.\n",
    "\n",
    "#### **Best Model Selection**\n",
    "The **best-performing model** is **Neural Network with Balanced Data (SMOTE), Adam Optimizer, and Dropout**. It achieves the highest:\n",
    "   - **F1-Score (0.580)**\n",
    "   - **Recall (0.773)**\n",
    "   - **ROC-AUC (0.859)**\n",
    "\n",
    "The model balances high recall (important for detecting positives) while avoiding overfitting with dropout.\n"
   ]
  },
  {
   "cell_type": "markdown",
   "metadata": {
    "id": "XE1iHOqqOEmV"
   },
   "source": [
    "## Actionable Insights and Business Recommendations"
   ]
  },
  {
   "cell_type": "markdown",
   "metadata": {
    "id": "ouNNiEhUdhZL"
   },
   "source": [
    "Observations:\n",
    "    - Customer age, credit score, and balance have notable relationships with churn.\n",
    "\n",
    "Recommendations:\n",
    "    - High-Risk Customers (Low Credit Scores, number of products = 1): Target these customers with products like credit-building loans or financial education programs to reduce churn.\n",
    "    - Incentivize higher credit score customers to remain loyal with premium benefits.\n",
    "\n",
    "Churn Prediction for Business:\n",
    "    - Since recall is prioritized (reducing false negatives), this model is optimal for customer churn prediction.\n",
    "\n",
    "Business Strategy:\n",
    "    - Target high-risk customers (low credit scores, minimal product engagement) with retention programs to improve customer loyalty.\n",
    "\n",
    "\n",
    "1. **SMOTE improves recall**, ensuring the model does not ignore minority classes.\n",
    "2. **Adam optimizer enhances optimization efficiency** compared to SGD.\n",
    "3. **Dropout prevents overfitting**, ensuring generalizability.\n",
    "\n",
    "\n",
    "The final recommendation is to use **Neural Network with SMOTE, Adam Optimizer, and Dropout** for optimal model performance."
   ]
  },
  {
   "cell_type": "markdown",
   "metadata": {
    "id": "6R23W-K3CmM9"
   },
   "source": [
    "<font size=6 color='blue'>Power Ahead</font>\n",
    "___"
   ]
  }
 ],
 "metadata": {
  "accelerator": "GPU",
  "colab": {
   "collapsed_sections": [
    "Q__obHNhdHtV",
    "WSyQJZSAaPA3",
    "s749lpTNaRkN",
    "Tsb28swdaVAs",
    "FHHrSIl4c6Yn",
    "z7ubXtC8HUOA",
    "eRxrJ2MHd_Sf",
    "W036jsgwRdVN",
    "nSFkV8KJiZSv",
    "OlHTHF4glMxS",
    "CUXPaUwZHUO8",
    "1nEEjgwleiMv",
    "wgpx0xlSTlzN",
    "qlSyq5fNHUPp",
    "ZLQMVCywT87j",
    "SzDpHlsFT_QA",
    "735HwSYiDSf1",
    "ygzPHkE_Anaw",
    "EcEiT7Vyc6Y0",
    "I-86J6fRu0vu",
    "m1Hav_XNu6ro",
    "sFhOUq6au-xp",
    "srfZVuMKc6Y_",
    "XE1iHOqqOEmV"
   ],
   "gpuType": "T4",
   "provenance": []
  },
  "kernelspec": {
   "display_name": "Python 3 (ipykernel)",
   "language": "python",
   "name": "python3"
  },
  "language_info": {
   "codemirror_mode": {
    "name": "ipython",
    "version": 3
   },
   "file_extension": ".py",
   "mimetype": "text/x-python",
   "name": "python",
   "nbconvert_exporter": "python",
   "pygments_lexer": "ipython3",
   "version": "3.9.12"
  }
 },
 "nbformat": 4,
 "nbformat_minor": 1
}
